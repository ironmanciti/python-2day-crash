{
 "cells": [
  {
   "cell_type": "markdown",
   "metadata": {},
   "source": [
    "# 18. 정규식(Regular Expression)\n",
    "\n",
    "#### 정규식 혹은 정규표현식은 특정한 규칙을 가진 문자열의 집단을 표현하는 방식이다.\n",
    "\n",
    "#### Python 은 정규식을 지원하는 re module 을 제공한다. 사용 방법은 다음과 같다.  \n",
    "\n",
    "    1. re.compile 을 이용하여 정규식을 compile 하여 pattern 객체를 얻음.  \n",
    "    2. pattern 객체를 이용하여 문자열의 검색을 수행.   \n",
    "    \n",
    "      - 검색 method :  \n",
    "        \n",
    "        search() - 문자열 전체를 검색하여 정규식과 match 되는지 조사  (문자열의 아무곳이나 match)  \n",
    "            \n",
    "        match = re.search(pattern, str)\n",
    "\n",
    "        검색하여 match 되는 문자열이 있으면 match object 를 반환하고, 없으면 None 이 반환된다.\n",
    "        \n",
    "        match 다음에 즉시 if 문으로 match 성공 여부를 check.\n",
    "\n",
    "        match 에는 match 결과가 저장되고 match.group() method 를 통해 matching text 를 가져온다."
   ]
  },
  {
   "cell_type": "code",
   "execution_count": 4,
   "metadata": {},
   "outputs": [
    {
     "data": {
      "text/plain": [
       "<re.Match object; span=(11, 19), match='word:cat'>"
      ]
     },
     "execution_count": 4,
     "metadata": {},
     "output_type": "execute_result"
    }
   ],
   "source": [
    "import re\n",
    "\n",
    "txt = 'an example word:cat!!'\n",
    "\n",
    "match = re.search(r'word:\\w\\w\\w', txt)    # r - raw string : backslash (\\) 를 특수문자로 인식하지 않는다.\n",
    "match"
   ]
  },
  {
   "cell_type": "code",
   "execution_count": 6,
   "metadata": {},
   "outputs": [
    {
     "name": "stdout",
     "output_type": "stream",
     "text": [
      "매칭 패턴 발견 :  word:cat\n"
     ]
    }
   ],
   "source": [
    "if match:\n",
    "    print('매칭 패턴 발견 : ', match.group())\n",
    "else:\n",
    "    print('매칭 패던 없음')"
   ]
  },
  {
   "cell_type": "markdown",
   "metadata": {},
   "source": [
    "## 정규식의 기본 pattern \n",
    "\n",
    "### meta 문자\n",
    "\n",
    "- meta 문자는 특수한 의미를 가지므로 위와 같이 자기 자체로 match 시키지 않는다.   \n",
    "       . ^ $ * + ? { } [ ] \\ | ( )\n",
    "       \n",
    "- special character 는 \\를 앞에 두면 된다. $\\text{ex) \\., \\\\, \\@}$\n",
    "\n",
    "### single character match\n",
    "\n",
    "- a, X, 9 $\\leftarrow$ 영문 대소문자, 숫자는 자기 자체로 match 시킨다.\n",
    "\n",
    "        ex) re.search(r'12g', 'p12g')  --> match='12g'\n",
    "\n",
    "- . (period) 는 아무 문자(any character) 와도 match 가 된다. (단, \\n (new line) 제외)  \n",
    "\n",
    "\n",
    "- \\w 는 word character (a-z, A-Z, 0-9) 와 match 된다. (single character)  \n",
    "\n",
    "- \\W - NOT \\w\n",
    "\n",
    "\n",
    "- \\b 는 word 와 non-word 의 boundary 이다\n",
    "\n",
    "\n",
    "- \\s 는 white space (space, new line, return, tab) 와 match 된다. (single white space)\n",
    "- \\S 는 non-white space \n",
    "\n",
    "\n",
    "- \\d 는 decimal digit (0-9) 와 match 된다.\n",
    "- \\D - NOT \\d\n",
    "\n",
    "### quantifier (나타나는 횟수)\n",
    "\n",
    "- \\* : 바로 앞 문자가 0 회 이상 나타남  \n",
    "\n",
    "- \\+ : 바로 앞 문자가 1 회 이상 나타남  \n",
    "\n",
    "- \\? : 바로 앞 문자가 0 회 혹은 1 회 나타남 (optional)\n",
    "\n",
    "\n",
    "### position\n",
    "\n",
    "\n",
    "- ^ : string 의 처음을 의미, \n",
    "\n",
    "- $ : string 의 끝을 의미한다.\n",
    "\n",
    "- \\[ \\] 내의 ^ 는 NOT 의미, ex) [^A-Z] : A-Z 을 제외한 문자\n",
    "\n",
    "\n",
    "### grouping\n",
    "- ()"
   ]
  },
  {
   "cell_type": "markdown",
   "metadata": {},
   "source": [
    "## 사용 method\n",
    "\n",
    "- re.compile(pattern) :\t패턴 문자열 pattern을 패턴 객체로 컴파일한다\n",
    "\n",
    "\n",
    "- re.search(pattern, string) :\tstring에서 pattern과 매치하는 텍스트를 탐색한다 (처음 한개 매치)\n",
    "\n",
    "\n",
    "- re.sub(pattern, repl, string) : string에서 pattern과 매치하는 텍스트를 repl로 치환한다\n",
    "\n",
    "### Group 구분\n",
    "\n",
    "matching text 를 여러 부분으로 구분할 때 사용"
   ]
  },
  {
   "cell_type": "code",
   "execution_count": 26,
   "metadata": {},
   "outputs": [
    {
     "name": "stdout",
     "output_type": "stream",
     "text": [
      "032 232-3245 032-232-3245\n"
     ]
    }
   ],
   "source": [
    "import re\n",
    "\n",
    "text = \"문의사항이 있으면 032-232-3245 으로 연락주시기 바랍니다.\"\n",
    "\n",
    "\n",
    "match = re.search(r'(\\d{3})-(\\d{3}-\\d{4})', text)\n",
    "\n",
    "areaCode = match.group(1)\n",
    "num = match.group(2)\n",
    "\n",
    "fullNum = match.group()\n",
    "\n",
    "print(areaCode, num, fullNum)"
   ]
  },
  {
   "cell_type": "code",
   "execution_count": 27,
   "metadata": {},
   "outputs": [
    {
     "data": {
      "text/plain": [
       "'abc'"
      ]
     },
     "execution_count": 27,
     "metadata": {},
     "output_type": "execute_result"
    }
   ],
   "source": [
    "match = re.search(r'\\w\\w\\w', '@@abcd!!')        #영수자 연속 3 개\n",
    "match.group()"
   ]
  },
  {
   "cell_type": "code",
   "execution_count": 28,
   "metadata": {},
   "outputs": [
    {
     "ename": "AttributeError",
     "evalue": "'NoneType' object has no attribute 'group'",
     "output_type": "error",
     "traceback": [
      "\u001b[1;31m---------------------------------------------------------------------------\u001b[0m",
      "\u001b[1;31mAttributeError\u001b[0m                            Traceback (most recent call last)",
      "\u001b[1;32m<ipython-input-28-c1013d7e131a>\u001b[0m in \u001b[0;36m<module>\u001b[1;34m\u001b[0m\n\u001b[0;32m      1\u001b[0m \u001b[0mmatch\u001b[0m \u001b[1;33m=\u001b[0m \u001b[0mre\u001b[0m\u001b[1;33m.\u001b[0m\u001b[0msearch\u001b[0m\u001b[1;33m(\u001b[0m\u001b[1;34mr'^bo'\u001b[0m\u001b[1;33m,\u001b[0m \u001b[1;34m'rebok'\u001b[0m\u001b[1;33m)\u001b[0m\u001b[1;33m\u001b[0m\u001b[1;33m\u001b[0m\u001b[0m\n\u001b[1;32m----> 2\u001b[1;33m \u001b[0mmatch\u001b[0m\u001b[1;33m.\u001b[0m\u001b[0mgroup\u001b[0m\u001b[1;33m(\u001b[0m\u001b[1;33m)\u001b[0m\u001b[1;33m\u001b[0m\u001b[1;33m\u001b[0m\u001b[0m\n\u001b[0m",
      "\u001b[1;31mAttributeError\u001b[0m: 'NoneType' object has no attribute 'group'"
     ]
    }
   ],
   "source": [
    "match = re.search(r'^bo', 'rebok')\n",
    "match.group()"
   ]
  },
  {
   "cell_type": "code",
   "execution_count": 29,
   "metadata": {},
   "outputs": [
    {
     "data": {
      "text/plain": [
       "'k'"
      ]
     },
     "execution_count": 29,
     "metadata": {},
     "output_type": "execute_result"
    }
   ],
   "source": [
    "match = re.search(r'k$', 'book')\n",
    "\n",
    "match.group()"
   ]
  },
  {
   "cell_type": "markdown",
   "metadata": {},
   "source": [
    "### match 되는 pattern 의 반복 (Repetition)\n",
    "\n",
    "- \\+ $\\rightarrow$ 1개 혹은 그 이상의 해당 pattern 이 왼쪽에 있음\n",
    "\n",
    "\n",
    "- \\* $\\rightarrow$ 0 혹은 그 이상의 해당 pattern 이 왼쪽에 있음\n",
    "\n",
    "\n",
    "- \\? $\\rightarrow$ 0 혹은 1 개의 해당 pattern 이 왼쪽에 있음\n",
    "\n",
    "### Leftmost and Largest 규칙\n",
    "\n",
    "search 는 가장 왼쪽 (leftmost) match 를 먼저 찾고 repetition 메타문자 (\\., \\*, \\+)를 만족하는 한 match 를 계속 찾는다."
   ]
  },
  {
   "cell_type": "code",
   "execution_count": 30,
   "metadata": {},
   "outputs": [
    {
     "data": {
      "text/plain": [
       "'p'"
      ]
     },
     "execution_count": 30,
     "metadata": {},
     "output_type": "execute_result"
    }
   ],
   "source": [
    "import re\n",
    "\n",
    "match = re.search(r'pi*', 'pg')    \n",
    "\n",
    "match.group()"
   ]
  },
  {
   "cell_type": "code",
   "execution_count": 19,
   "metadata": {},
   "outputs": [
    {
     "data": {
      "text/plain": [
       "'ii'"
      ]
     },
     "execution_count": 19,
     "metadata": {},
     "output_type": "execute_result"
    }
   ],
   "source": [
    "match = re.search(r'i+', 'piigiiig')\n",
    "\n",
    "match.group()"
   ]
  },
  {
   "cell_type": "code",
   "execution_count": 20,
   "metadata": {},
   "outputs": [
    {
     "data": {
      "text/plain": [
       "NoneType"
      ]
     },
     "execution_count": 20,
     "metadata": {},
     "output_type": "execute_result"
    }
   ],
   "source": [
    "match = re.search(r'^b\\w+', 'foobar')\n",
    "type(match)"
   ]
  },
  {
   "cell_type": "code",
   "execution_count": 21,
   "metadata": {},
   "outputs": [
    {
     "data": {
      "text/plain": [
       "'ba'"
      ]
     },
     "execution_count": 21,
     "metadata": {},
     "output_type": "execute_result"
    }
   ],
   "source": [
    "match = re.search(r'b\\w', 'foobar')\n",
    "\n",
    "match.group()"
   ]
  },
  {
   "cell_type": "markdown",
   "metadata": {},
   "source": [
    "### 대괄호 ([  ])\n",
    "\n",
    "character set 을 표시한다. 예를 들어 [abc] 는 a, b, c 와 match 된다. 단, [ ] 내의 \\. 는 메타문자가 아니라 실제 \\. 표시이다. "
   ]
  },
  {
   "cell_type": "code",
   "execution_count": 31,
   "metadata": {},
   "outputs": [
    {
     "data": {
      "text/plain": [
       "'trimurti@naver.com'"
      ]
     },
     "execution_count": 31,
     "metadata": {},
     "output_type": "execute_result"
    }
   ],
   "source": [
    "txt = '궁금하신 내용은 trimurti@naver.com 문의 바랍니다.'\n",
    "match = re.search(r'[\\w]+@[\\w.]+', txt)\n",
    "\n",
    "match.group()"
   ]
  },
  {
   "cell_type": "code",
   "execution_count": 32,
   "metadata": {},
   "outputs": [],
   "source": [
    "match = re.search(r'([\\w]+)@([\\w.-]+)', txt)"
   ]
  },
  {
   "cell_type": "code",
   "execution_count": 33,
   "metadata": {},
   "outputs": [
    {
     "name": "stdout",
     "output_type": "stream",
     "text": [
      "trimurti@naver.com\n",
      "trimurti\n",
      "naver.com\n"
     ]
    }
   ],
   "source": [
    "print(match.group())\n",
    "print(match.group(1))\n",
    "print(match.group(2))"
   ]
  },
  {
   "cell_type": "markdown",
   "metadata": {},
   "source": [
    "### findall\n",
    "re.search() 는 첫번째 match 하나만 return\n",
    "\n",
    "re.findall() 은 string 에서 match 되는 것 전부 list 로 return"
   ]
  },
  {
   "cell_type": "code",
   "execution_count": 34,
   "metadata": {},
   "outputs": [
    {
     "data": {
      "text/plain": [
       "['12g', '12g']"
      ]
     },
     "execution_count": 34,
     "metadata": {},
     "output_type": "execute_result"
    }
   ],
   "source": [
    "re.findall(r'12g', 'p12gabc12g')"
   ]
  },
  {
   "cell_type": "code",
   "execution_count": 35,
   "metadata": {},
   "outputs": [
    {
     "data": {
      "text/plain": [
       "['12g', '12g']"
      ]
     },
     "execution_count": 35,
     "metadata": {},
     "output_type": "execute_result"
    }
   ],
   "source": [
    "re.findall(r'\\d\\d\\w', 'p12gabc12g')"
   ]
  },
  {
   "cell_type": "markdown",
   "metadata": {},
   "source": [
    "### 연습문제\n",
    "\n",
    "아래에서 이메일 주소만 모두 골라낸다.\n",
    "\n",
    "- findall 이용"
   ]
  },
  {
   "cell_type": "code",
   "execution_count": 42,
   "metadata": {},
   "outputs": [],
   "source": [
    "txt = '메인 이멜 주소는 young-jea.oh@citi.com 이고 보조 이멜 주소는 trimurti@naver.com 입니다. 문의는 faq@gmail.net 으로 보내세요.'"
   ]
  },
  {
   "cell_type": "markdown",
   "metadata": {},
   "source": [
    "위에서 한글만 분리"
   ]
  },
  {
   "cell_type": "code",
   "execution_count": 48,
   "metadata": {},
   "outputs": [],
   "source": [
    "txt = \"한글 regex 의 범위는 가-힣까지 입니다.\""
   ]
  }
 ],
 "metadata": {
  "kernelspec": {
   "display_name": "Python 3",
   "language": "python",
   "name": "python3"
  },
  "language_info": {
   "codemirror_mode": {
    "name": "ipython",
    "version": 3
   },
   "file_extension": ".py",
   "mimetype": "text/x-python",
   "name": "python",
   "nbconvert_exporter": "python",
   "pygments_lexer": "ipython3",
   "version": "3.7.3"
  }
 },
 "nbformat": 4,
 "nbformat_minor": 2
}
