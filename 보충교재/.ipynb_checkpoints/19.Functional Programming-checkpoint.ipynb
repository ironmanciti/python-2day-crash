{
 "cells": [
  {
   "cell_type": "markdown",
   "metadata": {},
   "source": [
    "# 19. Python Functional Programming"
   ]
  },
  {
   "cell_type": "markdown",
   "metadata": {},
   "source": [
    "### 재귀함수를 python 으로 구현\n",
    "\n",
    "- factorial"
   ]
  },
  {
   "cell_type": "code",
   "execution_count": 2,
   "metadata": {},
   "outputs": [
    {
     "name": "stdout",
     "output_type": "stream",
     "text": [
      "3628800\n"
     ]
    }
   ],
   "source": [
    "# 1. for loop 사용\n",
    "\n",
    "n = 10\n",
    "nn = 1\n",
    "for i in range(1, n+1):\n",
    "    nn *= i\n",
    "print(nn)"
   ]
  },
  {
   "cell_type": "code",
   "execution_count": 3,
   "metadata": {},
   "outputs": [
    {
     "data": {
      "text/plain": [
       "3628800"
      ]
     },
     "execution_count": 3,
     "metadata": {},
     "output_type": "execute_result"
    }
   ],
   "source": [
    "# 2. recursive method\n",
    "\n",
    "def factorial(n):\n",
    "    if n == 1:\n",
    "        return 1\n",
    "    return n * factorial(n-1)\n",
    "\n",
    "factorial(10)"
   ]
  },
  {
   "cell_type": "markdown",
   "metadata": {},
   "source": [
    "##  Closure (크로져)\n",
    "\n",
    "- 퍼스트클래스(1급 객체) 함수를 지원하는 언어의 네임 바인딩 기술  \n",
    "\n",
    "\n",
    "- 어떤 함수를 함수 자신이 가지고 있는 환경과 함께 저장한 레코드\n",
    "\n",
    "\n",
    "- 자신의 영역 밖에서 호출된 함수의 변수값 (외부변수, free variable) 과 레퍼런스를 복사하고 저장한 뒤, 이 캡처한 값들에 액세스 할 수 있게 함\n",
    "\n",
    "\n",
    "- 1급 객체 (Frist-class citizen) 의 조건\n",
    "\n",
    "    - 변수나 데이타에 함수를 할당 할 수 있어야 한다.\n",
    "    - 함수의 인자로 넘길 수 있어야 한다.\n",
    "    - 함수의 리턴값으로 리턴 할수 있어야 한다.\n",
    "    \n",
    "    \n",
    "* 즉, Python 은 함수 자체를 인자 (argument) 로써 다른 함수에 전달하거나 다른 함수의 결과값으로 리턴 할수도 있고, 함수를 변수에 할당하거나 데이터 구조안에 저장할 수 있으므로 Python 의 함수는 일급객체이다.\n",
    "\n",
    "\n",
    "* Java 나 C 는 함수(method)의 인자로 함수를 넘길 수 없으므로 Java 나 C 의 함수는 First-class citizen 이 아니다. (이급객체)"
   ]
  },
  {
   "cell_type": "markdown",
   "metadata": {},
   "source": [
    "### 하나의 함수를 선언하고, 다른 이름의 변수로 closure 를 저장하면 여러개의 함수를 선언한 효과를 얻음\n",
    "\n",
    "- ex) multiple 함수를 double, triple, five_times 변수로 저장"
   ]
  },
  {
   "cell_type": "code",
   "execution_count": 4,
   "metadata": {},
   "outputs": [],
   "source": [
    "def multiple(a):                      # 외부함수\n",
    "    \n",
    "    def mult(number):\n",
    "        return a * number          # 내부함수 mult 가 외부 변수(free variable) a 를 저장하고, number 를 인수로 받음\n",
    "    \n",
    "    return mult                        # 내부함수 return"
   ]
  },
  {
   "cell_type": "code",
   "execution_count": 5,
   "metadata": {},
   "outputs": [],
   "source": [
    "double = multiple(2)"
   ]
  },
  {
   "cell_type": "code",
   "execution_count": 6,
   "metadata": {},
   "outputs": [
    {
     "data": {
      "text/plain": [
       "8"
      ]
     },
     "execution_count": 6,
     "metadata": {},
     "output_type": "execute_result"
    }
   ],
   "source": [
    "double(4)            "
   ]
  },
  {
   "cell_type": "code",
   "execution_count": 7,
   "metadata": {},
   "outputs": [
    {
     "data": {
      "text/plain": [
       "12"
      ]
     },
     "execution_count": 7,
     "metadata": {},
     "output_type": "execute_result"
    }
   ],
   "source": [
    "triple = multiple(3)\n",
    "\n",
    "triple(4)"
   ]
  },
  {
   "cell_type": "code",
   "execution_count": 8,
   "metadata": {},
   "outputs": [
    {
     "data": {
      "text/plain": [
       "15"
      ]
     },
     "execution_count": 8,
     "metadata": {},
     "output_type": "execute_result"
    }
   ],
   "source": [
    "five_times = multiple(5)\n",
    "\n",
    "five_times(3)"
   ]
  },
  {
   "cell_type": "markdown",
   "metadata": {},
   "source": [
    "### lambda 를 closure 로 사용"
   ]
  },
  {
   "cell_type": "code",
   "execution_count": 9,
   "metadata": {},
   "outputs": [
    {
     "name": "stdout",
     "output_type": "stream",
     "text": [
      "5\n",
      "7\n",
      "8\n"
     ]
    }
   ],
   "source": [
    "def add(n):\n",
    "    return lambda x: x+n\n",
    "\n",
    "add2 = add(2)\n",
    "print(add2(3))\n",
    "\n",
    "add4 = add(4)\n",
    "print(add4(3))\n",
    "\n",
    "print(add2(1) + add4(1))"
   ]
  },
  {
   "cell_type": "markdown",
   "metadata": {},
   "source": [
    "## decorator\n",
    "\n",
    "- closure 는 외부 변수 (free variable) 을 내부 함수 (inner function)로 전달하여 기억하게 하는 것이고, \n",
    "\n",
    "\n",
    "- decorator 는 함수를 내부 함수로 전달하여 기억하게 하는 것이다. \n",
    "\n",
    "\n",
    "- 여기서 전달하는 함수를 original function 이라고 하고, 내부 함수를 wrapper function 이라고 한다.\n",
    "\n",
    "\n",
    "- 따라서, decorator 역시 함수를 parameter 로 전달 받고 반환할 수 있는 First-class 객체 language 에서만 구현 가능하다.\n",
    "\n",
    "\n",
    "- 목적 : 하나의 decorator 함수를 만들고 wrapper 함수에 변화를 줌으로서 parameter 로 받는 여러 함수들에 동작을 쉽게 추가"
   ]
  },
  {
   "cell_type": "code",
   "execution_count": 37,
   "metadata": {},
   "outputs": [],
   "source": [
    "def decorator_func(original_func):\n",
    "    def wrapper_func(*args):\n",
    "        print(\"{} 함수가 실행\".format(original_func.__name__))\n",
    "        for arg in args:\n",
    "            print(arg)\n",
    "        return original_func(*args)\n",
    "    return wrapper_func"
   ]
  },
  {
   "cell_type": "code",
   "execution_count": 38,
   "metadata": {},
   "outputs": [],
   "source": [
    "@decorator_func\n",
    "def index(name, age):\n",
    "    print(\"welcome to homepage\")"
   ]
  },
  {
   "cell_type": "code",
   "execution_count": 39,
   "metadata": {},
   "outputs": [
    {
     "name": "stdout",
     "output_type": "stream",
     "text": [
      "index 함수가 실행\n",
      "이름\n",
      "40\n",
      "welcome to homepage\n"
     ]
    }
   ],
   "source": [
    "index('이름', 40)"
   ]
  },
  {
   "cell_type": "code",
   "execution_count": 41,
   "metadata": {},
   "outputs": [],
   "source": [
    "@decorator_func\n",
    "def display_info(name, age, address):\n",
    "    print(\"web program 에서 많이 사용 합니다.\")"
   ]
  },
  {
   "cell_type": "code",
   "execution_count": 42,
   "metadata": {},
   "outputs": [
    {
     "name": "stdout",
     "output_type": "stream",
     "text": [
      "display_info 함수가 실행\n",
      "John\n",
      "50\n",
      "서울 충무로\n",
      "web program 에서 많이 사용 합니다.\n"
     ]
    }
   ],
   "source": [
    "display_info('John',50, '서울 충무로')"
   ]
  },
  {
   "cell_type": "markdown",
   "metadata": {},
   "source": [
    "## Generator\n",
    "\n",
    "- yield 문을 사용하여 값 return\n",
    "\n",
    "    \n",
    "- memory 를 효율적으로 사용할 수 있으므로 large data 처리에 유용"
   ]
  },
  {
   "cell_type": "code",
   "execution_count": 43,
   "metadata": {},
   "outputs": [],
   "source": [
    "# 일반적 함수 -> 한번에 결과 return\n",
    "\n",
    "def fibs(n):\n",
    "    result = []\n",
    "    a = 1\n",
    "    b = 1\n",
    "    for i in range(n):\n",
    "        result.append(a)\n",
    "        a, b = b, a + b\n",
    "    return result"
   ]
  },
  {
   "cell_type": "code",
   "execution_count": 44,
   "metadata": {},
   "outputs": [
    {
     "name": "stdout",
     "output_type": "stream",
     "text": [
      "[1, 1, 2, 3, 5, 8, 13, 21, 34, 55, 89, 144, 233, 377, 610, 987, 1597, 2584, 4181, 6765, 10946, 17711, 28657, 46368, 75025, 121393, 196418, 317811, 514229, 832040]\n"
     ]
    }
   ],
   "source": [
    "print(fibs(30))"
   ]
  },
  {
   "cell_type": "code",
   "execution_count": 45,
   "metadata": {},
   "outputs": [],
   "source": [
    "# generator 함수 ->\n",
    "\n",
    "def fibs2(n):\n",
    "    a = 1\n",
    "    b = 1\n",
    "    for i in range(n):\n",
    "        yield a                  # yield 문 안의 표현식을 반환하고, 실행 일시 중단\n",
    "        a, b = b, a + b"
   ]
  },
  {
   "cell_type": "code",
   "execution_count": 46,
   "metadata": {},
   "outputs": [
    {
     "data": {
      "text/plain": [
       "<generator object fibs2 at 0x00000247CBA0E840>"
      ]
     },
     "execution_count": 46,
     "metadata": {},
     "output_type": "execute_result"
    }
   ],
   "source": [
    "fib = fibs2(30)              # generator object 반환\n",
    "fib"
   ]
  },
  {
   "cell_type": "code",
   "execution_count": 47,
   "metadata": {},
   "outputs": [
    {
     "data": {
      "text/plain": [
       "1"
      ]
     },
     "execution_count": 47,
     "metadata": {},
     "output_type": "execute_result"
    }
   ],
   "source": [
    "next(fib)"
   ]
  },
  {
   "cell_type": "code",
   "execution_count": 48,
   "metadata": {},
   "outputs": [
    {
     "name": "stdout",
     "output_type": "stream",
     "text": [
      "1\n",
      "2\n",
      "3\n"
     ]
    }
   ],
   "source": [
    "for _ in range(3):\n",
    "    print(next(fib))"
   ]
  },
  {
   "cell_type": "code",
   "execution_count": 49,
   "metadata": {},
   "outputs": [
    {
     "name": "stdout",
     "output_type": "stream",
     "text": [
      "[5, 8, 13, 21, 34, 55, 89, 144, 233, 377, 610, 987, 1597, 2584, 4181, 6765, 10946, 17711, 28657, 46368, 75025, 121393, 196418, 317811, 514229, 832040]\n"
     ]
    }
   ],
   "source": [
    "print(list(fib))"
   ]
  },
  {
   "cell_type": "markdown",
   "metadata": {},
   "source": [
    "## 연습문제\n",
    "\n",
    "- lambda 를 이용하여 test_list 의 각 문장이 몇개의 단어로 이루어져 있는지 한줄 coding\n",
    "\n",
    "test_list = ['this is a book', 'good morning', 'apple', 'apple orange pear', 'hello python and functional programmiong']"
   ]
  },
  {
   "cell_type": "code",
   "execution_count": 63,
   "metadata": {},
   "outputs": [
    {
     "name": "stdout",
     "output_type": "stream",
     "text": [
      "4\n",
      "2\n",
      "1\n",
      "3\n",
      "5\n"
     ]
    }
   ],
   "source": [
    "test_list = ['this is a book', 'good morning', 'apple', 'apple orange pear', 'hello python and functional programmiong']\n",
    "\n",
    "for s in test_list:\n",
    "    print((lambda x: ?)(s.split(' ')))"
   ]
  }
 ],
 "metadata": {
  "kernelspec": {
   "display_name": "Python 3",
   "language": "python",
   "name": "python3"
  },
  "language_info": {
   "codemirror_mode": {
    "name": "ipython",
    "version": 3
   },
   "file_extension": ".py",
   "mimetype": "text/x-python",
   "name": "python",
   "nbconvert_exporter": "python",
   "pygments_lexer": "ipython3",
   "version": "3.7.3"
  }
 },
 "nbformat": 4,
 "nbformat_minor": 2
}
