{
 "cells": [
  {
   "cell_type": "markdown",
   "metadata": {},
   "source": [
    "# 9. 스트링 (String) \n",
    "\n",
    "## 스트링 (String) 자료형과 string 함수\n",
    "\n",
    "### Python 의 string 자료형은 text 형태의 문자열을 말함.\n",
    "### 문자열은 \" \" , ' '  혹은 \"\"\" \"\"\" 로 둘러싸인 문자들의 집합임.\n",
    "    \"Life is short\"\n",
    "    'a'\n",
    "    \"123\"\n",
    "    \"\"\"String is Python's text type.\"\"\"\n",
    "### string 자료는 수정할 수 없음 (immutable)\n",
    "* 수정할 수 있는 자료형 (mutable)\n",
    "    list\n",
    "* 수정할 수 없는 자료형 (immutable)\n",
    "    string, tuple\n",
    "    \n",
    "### string 간의 +, * 연산 가능\n",
    "\n",
    "### str( ) 내장함수로 string type 변환\n",
    "\n",
    "### string 은 iterable 한 특성을 가지므로 list 와 같이 for-loop, len( ), indexing, slicing 가능"
   ]
  },
  {
   "cell_type": "markdown",
   "metadata": {},
   "source": [
    "### string 과 list 비교"
   ]
  },
  {
   "cell_type": "code",
   "execution_count": 1,
   "metadata": {},
   "outputs": [],
   "source": [
    "xlist = ['g','o','o','d']\n",
    "xlist[1] = 'x'"
   ]
  },
  {
   "cell_type": "code",
   "execution_count": 2,
   "metadata": {},
   "outputs": [
    {
     "data": {
      "text/plain": [
       "['g', 'x', 'o', 'd']"
      ]
     },
     "execution_count": 2,
     "metadata": {},
     "output_type": "execute_result"
    }
   ],
   "source": [
    "xlist"
   ]
  },
  {
   "cell_type": "code",
   "execution_count": 3,
   "metadata": {},
   "outputs": [
    {
     "ename": "TypeError",
     "evalue": "'str' object does not support item assignment",
     "output_type": "error",
     "traceback": [
      "\u001b[1;31m---------------------------------------------------------------------------\u001b[0m",
      "\u001b[1;31mTypeError\u001b[0m                                 Traceback (most recent call last)",
      "\u001b[1;32m<ipython-input-3-6ef7a15e612e>\u001b[0m in \u001b[0;36m<module>\u001b[1;34m\u001b[0m\n\u001b[0;32m      1\u001b[0m \u001b[0ms1\u001b[0m \u001b[1;33m=\u001b[0m \u001b[1;34m'good'\u001b[0m\u001b[1;33m\u001b[0m\u001b[1;33m\u001b[0m\u001b[0m\n\u001b[1;32m----> 2\u001b[1;33m \u001b[0ms1\u001b[0m\u001b[1;33m[\u001b[0m\u001b[1;36m1\u001b[0m\u001b[1;33m]\u001b[0m \u001b[1;33m=\u001b[0m \u001b[1;34m'x'\u001b[0m\u001b[1;33m\u001b[0m\u001b[1;33m\u001b[0m\u001b[0m\n\u001b[0m",
      "\u001b[1;31mTypeError\u001b[0m: 'str' object does not support item assignment"
     ]
    }
   ],
   "source": [
    "s1 = 'good'\n",
    "s1[1] = 'x'"
   ]
  },
  {
   "cell_type": "markdown",
   "metadata": {},
   "source": [
    "### string operation"
   ]
  },
  {
   "cell_type": "code",
   "execution_count": 4,
   "metadata": {},
   "outputs": [
    {
     "name": "stdout",
     "output_type": "stream",
     "text": [
      "Good morning\n"
     ]
    }
   ],
   "source": [
    "s2 = \"Good\" + \" morning\"\n",
    "print(s2)"
   ]
  },
  {
   "cell_type": "code",
   "execution_count": 5,
   "metadata": {},
   "outputs": [
    {
     "name": "stdout",
     "output_type": "stream",
     "text": [
      "goodgoodgood\n"
     ]
    }
   ],
   "source": [
    "s3 = \"good\" * 3\n",
    "print(s3)"
   ]
  },
  {
   "cell_type": "code",
   "execution_count": 2,
   "metadata": {},
   "outputs": [
    {
     "name": "stdout",
     "output_type": "stream",
     "text": [
      "P l Pyt\n"
     ]
    }
   ],
   "source": [
    "s5 = \"Python is powerful\"\n",
    "print(s5[0], s5[-1], s5[:3])"
   ]
  },
  {
   "cell_type": "code",
   "execution_count": 13,
   "metadata": {},
   "outputs": [
    {
     "data": {
      "text/plain": [
       "'lufrewop si nohtyP'"
      ]
     },
     "execution_count": 13,
     "metadata": {},
     "output_type": "execute_result"
    }
   ],
   "source": [
    "s5[::-1]"
   ]
  },
  {
   "cell_type": "markdown",
   "metadata": {},
   "source": [
    "### string and for-loop"
   ]
  },
  {
   "cell_type": "code",
   "execution_count": 12,
   "metadata": {},
   "outputs": [
    {
     "name": "stdout",
     "output_type": "stream",
     "text": [
      "Python is powerful"
     ]
    }
   ],
   "source": [
    "for ch in s5:\n",
    "    print(ch, end=\"\")"
   ]
  },
  {
   "cell_type": "markdown",
   "metadata": {},
   "source": [
    "## Escape Sequence \n",
    "\n",
    "### \"\\\\\" 로 시작하며 \"\\\\\"에 뒤따르는 문자에 특별한 의미를 부여하기 위해 사용\n",
    "    예) \\n : new line\n",
    "       \\\\  : backslash ('\\')\n",
    "       \\', \\\" : 따옴표 (quotation mark)\n",
    "       \\t  : tap"
   ]
  },
  {
   "cell_type": "code",
   "execution_count": 14,
   "metadata": {},
   "outputs": [
    {
     "name": "stdout",
     "output_type": "stream",
     "text": [
      "First Line \n",
      "Second Line\n"
     ]
    }
   ],
   "source": [
    "print(\"First Line \\nSecond Line\")"
   ]
  },
  {
   "cell_type": "code",
   "execution_count": 15,
   "metadata": {},
   "outputs": [
    {
     "name": "stdout",
     "output_type": "stream",
     "text": [
      "Seoul-Busan \\non-stop\n"
     ]
    }
   ],
   "source": [
    "print(\"Seoul-Busan \\\\non-stop\")"
   ]
  },
  {
   "cell_type": "code",
   "execution_count": 16,
   "metadata": {},
   "outputs": [
    {
     "name": "stdout",
     "output_type": "stream",
     "text": [
      "He's my firend\n"
     ]
    }
   ],
   "source": [
    "print('He\\'s my firend')"
   ]
  },
  {
   "cell_type": "code",
   "execution_count": 17,
   "metadata": {},
   "outputs": [
    {
     "name": "stdout",
     "output_type": "stream",
     "text": [
      "He's my friend\n"
     ]
    }
   ],
   "source": [
    "print(\"He's my friend\")"
   ]
  },
  {
   "cell_type": "code",
   "execution_count": 18,
   "metadata": {},
   "outputs": [
    {
     "name": "stdout",
     "output_type": "stream",
     "text": [
      "I didn't know what was \"it\".\n"
     ]
    }
   ],
   "source": [
    "s1 = \"\"\"I didn't know what was \"it\".\"\"\"\n",
    "print(s1)"
   ]
  },
  {
   "cell_type": "markdown",
   "metadata": {},
   "source": [
    "### 연습문제"
   ]
  },
  {
   "cell_type": "markdown",
   "metadata": {},
   "source": [
    "1) 두개의 문자열을 parameter 로 받아 서로의 첫번째 두 글자를 교환한 후 반환하는 함수 작성\n",
    "\n",
    "```python\n",
    "    def swap_first_two(a, b):\n",
    "        return ?, ?\n",
    "\n",
    "    print(swap_first_two('12345', 'abcde'))   # ('ab345', '12cde')\n",
    "```"
   ]
  },
  {
   "cell_type": "markdown",
   "metadata": {},
   "source": [
    "## string class 의 주요 메소드 (method)\n",
    "\n",
    "### 대, 소문자 변환\n",
    "    lower( ), upper( )\n",
    "### 문자열(string) 내의 특정 문자 갯수 \n",
    "    count( )\n",
    "### 앞부분 / 뒷부분 화이트 스페이스(whitespace) 제거\n",
    "    \n",
    "    Python 의 whitespace\n",
    "    \n",
    "    ' ' : space (공백)\n",
    "    '\\n': newline (줄바꿈)\n",
    "    '\\r': carriage return (\n",
    "    '\\t': 수평탭 (horizontal tab)\n",
    "    '\\v': 수직탭 (vertical tab)\n",
    "    \n",
    "    strip( )  - 앞, 뒤의 whitespace 제거\n",
    "    lstrip( ) - 앞부분의 whitespace 제거\n",
    "    rstrip( ) - 뒷부분의 whitespace 제거\n",
    "    \n",
    "    \n",
    "### 문자열 쪼개기 / 합치기\n",
    "    split( )\n",
    "    join( )"
   ]
  },
  {
   "cell_type": "code",
   "execution_count": 2,
   "metadata": {},
   "outputs": [
    {
     "data": {
      "text/plain": [
       "['__add__',\n",
       " '__class__',\n",
       " '__contains__',\n",
       " '__delattr__',\n",
       " '__dir__',\n",
       " '__doc__',\n",
       " '__eq__',\n",
       " '__format__',\n",
       " '__ge__',\n",
       " '__getattribute__',\n",
       " '__getitem__',\n",
       " '__getnewargs__',\n",
       " '__gt__',\n",
       " '__hash__',\n",
       " '__init__',\n",
       " '__init_subclass__',\n",
       " '__iter__',\n",
       " '__le__',\n",
       " '__len__',\n",
       " '__lt__',\n",
       " '__mod__',\n",
       " '__mul__',\n",
       " '__ne__',\n",
       " '__new__',\n",
       " '__reduce__',\n",
       " '__reduce_ex__',\n",
       " '__repr__',\n",
       " '__rmod__',\n",
       " '__rmul__',\n",
       " '__setattr__',\n",
       " '__sizeof__',\n",
       " '__str__',\n",
       " '__subclasshook__',\n",
       " 'capitalize',\n",
       " 'casefold',\n",
       " 'center',\n",
       " 'count',\n",
       " 'encode',\n",
       " 'endswith',\n",
       " 'expandtabs',\n",
       " 'find',\n",
       " 'format',\n",
       " 'format_map',\n",
       " 'index',\n",
       " 'isalnum',\n",
       " 'isalpha',\n",
       " 'isascii',\n",
       " 'isdecimal',\n",
       " 'isdigit',\n",
       " 'isidentifier',\n",
       " 'islower',\n",
       " 'isnumeric',\n",
       " 'isprintable',\n",
       " 'isspace',\n",
       " 'istitle',\n",
       " 'isupper',\n",
       " 'join',\n",
       " 'ljust',\n",
       " 'lower',\n",
       " 'lstrip',\n",
       " 'maketrans',\n",
       " 'partition',\n",
       " 'replace',\n",
       " 'rfind',\n",
       " 'rindex',\n",
       " 'rjust',\n",
       " 'rpartition',\n",
       " 'rsplit',\n",
       " 'rstrip',\n",
       " 'split',\n",
       " 'splitlines',\n",
       " 'startswith',\n",
       " 'strip',\n",
       " 'swapcase',\n",
       " 'title',\n",
       " 'translate',\n",
       " 'upper',\n",
       " 'zfill']"
      ]
     },
     "execution_count": 2,
     "metadata": {},
     "output_type": "execute_result"
    }
   ],
   "source": [
    "s = \"good morning\"\n",
    "dir(s)"
   ]
  },
  {
   "cell_type": "code",
   "execution_count": 6,
   "metadata": {},
   "outputs": [
    {
     "data": {
      "text/plain": [
       "('GOOD MORNING', 'good morning')"
      ]
     },
     "execution_count": 6,
     "metadata": {},
     "output_type": "execute_result"
    }
   ],
   "source": [
    "s.upper(), s.lower()"
   ]
  },
  {
   "cell_type": "code",
   "execution_count": 7,
   "metadata": {},
   "outputs": [
    {
     "data": {
      "text/plain": [
       "3"
      ]
     },
     "execution_count": 7,
     "metadata": {},
     "output_type": "execute_result"
    }
   ],
   "source": [
    "s.count('o')"
   ]
  },
  {
   "cell_type": "code",
   "execution_count": 8,
   "metadata": {},
   "outputs": [
    {
     "data": {
      "text/plain": [
       "'good morning'"
      ]
     },
     "execution_count": 8,
     "metadata": {},
     "output_type": "execute_result"
    }
   ],
   "source": [
    "w = \"   good morning    \"\n",
    "w.strip()"
   ]
  },
  {
   "cell_type": "code",
   "execution_count": 9,
   "metadata": {},
   "outputs": [
    {
     "data": {
      "text/plain": [
       "'   good morning'"
      ]
     },
     "execution_count": 9,
     "metadata": {},
     "output_type": "execute_result"
    }
   ],
   "source": [
    "w.rstrip()"
   ]
  },
  {
   "cell_type": "code",
   "execution_count": 10,
   "metadata": {},
   "outputs": [
    {
     "data": {
      "text/plain": [
       "['good', 'morning']"
      ]
     },
     "execution_count": 10,
     "metadata": {},
     "output_type": "execute_result"
    }
   ],
   "source": [
    "w.split()"
   ]
  },
  {
   "cell_type": "code",
   "execution_count": 11,
   "metadata": {},
   "outputs": [
    {
     "data": {
      "text/plain": [
       "'good'"
      ]
     },
     "execution_count": 11,
     "metadata": {},
     "output_type": "execute_result"
    }
   ],
   "source": [
    "''.join(['g', 'o' ,'o', 'd'])"
   ]
  },
  {
   "cell_type": "code",
   "execution_count": 12,
   "metadata": {},
   "outputs": [
    {
     "data": {
      "text/plain": [
       "'one-to-one'"
      ]
     },
     "execution_count": 12,
     "metadata": {},
     "output_type": "execute_result"
    }
   ],
   "source": [
    "'-'.join([\"one\", \"to\", \"one\"])"
   ]
  },
  {
   "cell_type": "markdown",
   "metadata": {},
   "source": [
    "## 문자열 포매팅 (String Formatting)\n",
    "\n",
    "- 문자열 포매팅이란 문자열 내에 어떤 값을 삽입하는 것\n",
    "\n",
    "\n",
    "-  { } 로 위치를 표시하고 format( ) method 로 mapping 시킨다.\n",
    "\n",
    "\n",
    "-  {[순서]:[표시형식]} 지정 가능\n",
    "\n",
    "\n",
    "-  format( ) method 대신 % 를 이용할 수도 있다. $\\rightarrow$ Python 2.7 방식"
   ]
  },
  {
   "cell_type": "code",
   "execution_count": 14,
   "metadata": {},
   "outputs": [
    {
     "data": {
      "text/plain": [
       "'Python is powerful'"
      ]
     },
     "execution_count": 14,
     "metadata": {},
     "output_type": "execute_result"
    }
   ],
   "source": [
    "\"Python is {}\".format(\"powerful\")"
   ]
  },
  {
   "cell_type": "code",
   "execution_count": 15,
   "metadata": {},
   "outputs": [
    {
     "data": {
      "text/plain": [
       "'Python is easy and powerful'"
      ]
     },
     "execution_count": 15,
     "metadata": {},
     "output_type": "execute_result"
    }
   ],
   "source": [
    "\"Python is {} and {}\".format(\"easy\", \"powerful\")"
   ]
  },
  {
   "cell_type": "code",
   "execution_count": 16,
   "metadata": {},
   "outputs": [
    {
     "data": {
      "text/plain": [
       "\"Float : 1.5, List: ['a', 'b', 'c']\""
      ]
     },
     "execution_count": 16,
     "metadata": {},
     "output_type": "execute_result"
    }
   ],
   "source": [
    "\"Float : {}, List: {}\".format(1.5, ['a','b','c'])"
   ]
  },
  {
   "cell_type": "code",
   "execution_count": 23,
   "metadata": {},
   "outputs": [
    {
     "data": {
      "text/plain": [
       "'3.14 는 정확히 3.141592653589793 '"
      ]
     },
     "execution_count": 23,
     "metadata": {},
     "output_type": "execute_result"
    }
   ],
   "source": [
    "import math\n",
    "\n",
    "y = 3.141592\n",
    "\"{1:0.2f} 는 정확히 {0} \".format(math.pi, y)"
   ]
  },
  {
   "cell_type": "markdown",
   "metadata": {},
   "source": [
    "## 포맷문자열 리터럴 (f-문자열)\n",
    "\n",
    "-  f+string 내에 {expression}  사용"
   ]
  },
  {
   "cell_type": "code",
   "execution_count": 25,
   "metadata": {},
   "outputs": [
    {
     "name": "stdout",
     "output_type": "stream",
     "text": [
      " 3.14 는 정확히 3.141592653589793.\n"
     ]
    }
   ],
   "source": [
    "print(f'{y: 0.2f} 는 정확히 {math.pi}.')"
   ]
  },
  {
   "cell_type": "markdown",
   "metadata": {},
   "source": [
    "### Python 2.7 형식"
   ]
  },
  {
   "cell_type": "code",
   "execution_count": 26,
   "metadata": {},
   "outputs": [
    {
     "data": {
      "text/plain": [
       "'I have three apples.'"
      ]
     },
     "execution_count": 26,
     "metadata": {},
     "output_type": "execute_result"
    }
   ],
   "source": [
    "\"I have %s apples.\" % \"three\""
   ]
  },
  {
   "cell_type": "code",
   "execution_count": 27,
   "metadata": {},
   "outputs": [
    {
     "data": {
      "text/plain": [
       "'I have 5 apples'"
      ]
     },
     "execution_count": 27,
     "metadata": {},
     "output_type": "execute_result"
    }
   ],
   "source": [
    "\"I have %d apples\" % 5"
   ]
  },
  {
   "cell_type": "markdown",
   "metadata": {},
   "source": [
    "### 연습문제"
   ]
  },
  {
   "cell_type": "markdown",
   "metadata": {},
   "source": [
    "1) 다음의 출력 결과는 ? (난이도 하)\n",
    "\n",
    "    for x in \"Mississippi\".split(\"i\"):\n",
    "        print(x, end=\"\")"
   ]
  },
  {
   "cell_type": "markdown",
   "metadata": {},
   "source": [
    "2) parameter 로 받은 string 의 양 끝단 2 글자를 붙여서 반환하는 함수 작성 (난이도 중)\n",
    "- string 의 slicing 및 concatenation 이용\n",
    "```Python\n",
    "    def both_ends(s):\n",
    "        if len(s) < 2:\n",
    "            return ''\n",
    "        first2 = s[:?]\n",
    "        last2 = s[?:]\n",
    "        return first2 + last2\n",
    "\n",
    "    print(both_ends('spring'))  #spng \n",
    "    print(both_ends('Hello'))    #Helo\n",
    "```  "
   ]
  },
  {
   "cell_type": "markdown",
   "metadata": {},
   "source": [
    "3) 두개의 문자열을 parameter 로 받아 서로의 첫번째 두 글자를 교환한 후 중간에 한칸 띄우고 반환하는 함수 작성 (난이도 중)\n",
    "\n",
    "```python\n",
    "    def mix_up(a, b):\n",
    "        a_swapped = b[:?] + a[?:]\n",
    "        b_swapped = a[:?] + b[?:]\n",
    "        return ? + ' ' + ?\n",
    "\n",
    "    print(mix_up('frog', 'dinner'))   # diog frnner\n",
    "```"
   ]
  }
 ],
 "metadata": {
  "kernelspec": {
   "display_name": "Python 3",
   "language": "python",
   "name": "python3"
  },
  "language_info": {
   "codemirror_mode": {
    "name": "ipython",
    "version": 3
   },
   "file_extension": ".py",
   "mimetype": "text/x-python",
   "name": "python",
   "nbconvert_exporter": "python",
   "pygments_lexer": "ipython3",
   "version": "3.7.4"
  }
 },
 "nbformat": 4,
 "nbformat_minor": 2
}
