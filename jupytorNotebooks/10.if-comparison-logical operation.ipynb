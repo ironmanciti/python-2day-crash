{
 "cells": [
  {
   "cell_type": "markdown",
   "metadata": {},
   "source": [
    "# 10. 조건문 \n",
    "\n",
    "## 조건문 (if statement) 과 Boolean 자료형\n",
    "\n",
    "### boolean 자료형 :  True, False, bool( )\n",
    "\n",
    "### 조건이 참(True) 인 경우만 명령 수행\n",
    "\n",
    "### 문법 :\n",
    "    \n",
    "    if <test 문>:\n",
    "        <body1>\n",
    "    elif <test 문>:\n",
    "        <body2>\n",
    "    else:\n",
    "        <body3>\n",
    "        \n",
    "### Python 의 False 와 True \n",
    "\n",
    "    False : empty string(\"\"), None, [], (), 0, False\n",
    "    True  : 그 외의 모든 value"
   ]
  },
  {
   "cell_type": "code",
   "execution_count": 1,
   "metadata": {},
   "outputs": [
    {
     "name": "stdout",
     "output_type": "stream",
     "text": [
      "Test passed\n"
     ]
    }
   ],
   "source": [
    "if True:\n",
    "    print(\"Test passed\")"
   ]
  },
  {
   "cell_type": "code",
   "execution_count": 1,
   "metadata": {},
   "outputs": [],
   "source": [
    "if False:\n",
    "    print(\"Test failed\")"
   ]
  },
  {
   "cell_type": "code",
   "execution_count": 2,
   "metadata": {},
   "outputs": [
    {
     "name": "stdout",
     "output_type": "stream",
     "text": [
      "i = 3\n"
     ]
    }
   ],
   "source": [
    "i = 3\n",
    "if i == 1:\n",
    "    print('i = 1')\n",
    "elif i == 2:\n",
    "    print('i = 2')\n",
    "elif i == 3:\n",
    "    print('i = 3')\n",
    "else:\n",
    "    print('i > 3')"
   ]
  },
  {
   "cell_type": "code",
   "execution_count": 3,
   "metadata": {},
   "outputs": [
    {
     "data": {
      "text/plain": [
       "bool"
      ]
     },
     "execution_count": 3,
     "metadata": {},
     "output_type": "execute_result"
    }
   ],
   "source": [
    "bb = True\n",
    "type(bb)"
   ]
  },
  {
   "cell_type": "code",
   "execution_count": 4,
   "metadata": {},
   "outputs": [
    {
     "data": {
      "text/plain": [
       "(False, False, False)"
      ]
     },
     "execution_count": 4,
     "metadata": {},
     "output_type": "execute_result"
    }
   ],
   "source": [
    "x = 0; y = 0.0; z = 0 + 0j\n",
    "bool(x), bool(y), bool(z)"
   ]
  },
  {
   "cell_type": "code",
   "execution_count": 5,
   "metadata": {},
   "outputs": [
    {
     "data": {
      "text/plain": [
       "(True, True, True)"
      ]
     },
     "execution_count": 5,
     "metadata": {},
     "output_type": "execute_result"
    }
   ],
   "source": [
    "x = -1; y = 1.e-10; z = 0 + 1j\n",
    "bool(x), bool(y), bool(z)"
   ]
  },
  {
   "cell_type": "code",
   "execution_count": 6,
   "metadata": {},
   "outputs": [
    {
     "data": {
      "text/plain": [
       "(False, False, False, False, False, False)"
      ]
     },
     "execution_count": 6,
     "metadata": {},
     "output_type": "execute_result"
    }
   ],
   "source": [
    "u = False; v = 0; w = ''; x = []; y = (); z = None        # None : No Value\n",
    "bool(u), bool(v), bool(w), bool(x), bool(y), bool(z)"
   ]
  },
  {
   "cell_type": "code",
   "execution_count": 7,
   "metadata": {},
   "outputs": [
    {
     "data": {
      "text/plain": [
       "(True, True, True, True, True, True)"
      ]
     },
     "execution_count": 7,
     "metadata": {},
     "output_type": "execute_result"
    }
   ],
   "source": [
    "u = True; v = 1; w = ' '; x = [0]; y = (0,0); z = \"0\"\n",
    "bool(u), bool(v), bool(w), bool(x), bool(y), bool(z)"
   ]
  },
  {
   "cell_type": "code",
   "execution_count": 8,
   "metadata": {},
   "outputs": [
    {
     "name": "stdout",
     "output_type": "stream",
     "text": [
      "true  = [' ', [''], 1.5, (0, 0)]\n",
      "false = ['', None, [], 0, False, ()]\n"
     ]
    }
   ],
   "source": [
    "items = [\"\", None, [], 0, False, \" \", [\"\"], (), 1.5, (0, 0)]\n",
    "true  = [] \n",
    "false = []\n",
    "for item in items:\n",
    "    if item:\n",
    "        true.append(item)\n",
    "    else:\n",
    "        false.append(item)\n",
    "print(\"true  =\", true)\n",
    "print(\"false =\", false)"
   ]
  },
  {
   "cell_type": "markdown",
   "metadata": {},
   "source": [
    "## 비교 (Comparison)\n",
    "\n",
    "### 비교연산자 8 가지 :\n",
    "\n",
    "    x <  y \n",
    "    x <= y\n",
    "    x == y   (두 변수의 value 가 같은지 비교) \n",
    "    x >= y\n",
    "    x >  y\n",
    "    x != y\n",
    "    x in y\n",
    "    x is y     (두 object 가 동일한지 비교)"
   ]
  },
  {
   "cell_type": "code",
   "execution_count": 9,
   "metadata": {},
   "outputs": [
    {
     "name": "stdout",
     "output_type": "stream",
     "text": [
      "True\n",
      "False\n"
     ]
    }
   ],
   "source": [
    "a = [1, 2, 3]\n",
    "b = [1, 2, 3]\n",
    "print(a == b)\n",
    "print(a is b)"
   ]
  },
  {
   "cell_type": "code",
   "execution_count": 11,
   "metadata": {},
   "outputs": [
    {
     "data": {
      "text/plain": [
       "True"
      ]
     },
     "execution_count": 11,
     "metadata": {},
     "output_type": "execute_result"
    }
   ],
   "source": [
    "7 == 7.0"
   ]
  },
  {
   "cell_type": "code",
   "execution_count": 14,
   "metadata": {},
   "outputs": [
    {
     "name": "stdout",
     "output_type": "stream",
     "text": [
      "5\n",
      "6\n",
      "7\n"
     ]
    }
   ],
   "source": [
    "xlist = [1,2,3,4,5,6,7]\n",
    "\n",
    "for element in xlist:\n",
    "    if element >= 5:\n",
    "        print(element)"
   ]
  },
  {
   "cell_type": "code",
   "execution_count": 15,
   "metadata": {},
   "outputs": [
    {
     "data": {
      "text/plain": [
       "True"
      ]
     },
     "execution_count": 15,
     "metadata": {},
     "output_type": "execute_result"
    }
   ],
   "source": [
    "2 in xlist"
   ]
  },
  {
   "cell_type": "markdown",
   "metadata": {},
   "source": [
    "## 논리연산 (Logical Operation)\n",
    "\n",
    "    True  and True  --> True   (1 * 1 = 1)\n",
    "    True  or  True  --> True   (1 + 1 = 2)\n",
    "    True  and False --> False  (1 * 0 = 0)\n",
    "    True  or  False --> True   (1 + 0 = 1)\n",
    "    False and False --> False  (0 * 0 = 0) \n",
    "    False or  False --> False  (0 + 0 = 0)\n",
    "    \n",
    "    not True  --> False\n",
    "    not False --> True"
   ]
  },
  {
   "cell_type": "code",
   "execution_count": 17,
   "metadata": {},
   "outputs": [
    {
     "data": {
      "text/plain": [
       "True"
      ]
     },
     "execution_count": 17,
     "metadata": {},
     "output_type": "execute_result"
    }
   ],
   "source": [
    "True and True"
   ]
  },
  {
   "cell_type": "code",
   "execution_count": 18,
   "metadata": {},
   "outputs": [
    {
     "data": {
      "text/plain": [
       "True"
      ]
     },
     "execution_count": 18,
     "metadata": {},
     "output_type": "execute_result"
    }
   ],
   "source": [
    "not False"
   ]
  },
  {
   "cell_type": "code",
   "execution_count": 19,
   "metadata": {},
   "outputs": [
    {
     "data": {
      "text/plain": [
       "False"
      ]
     },
     "execution_count": 19,
     "metadata": {},
     "output_type": "execute_result"
    }
   ],
   "source": [
    "not True"
   ]
  },
  {
   "cell_type": "code",
   "execution_count": 21,
   "metadata": {},
   "outputs": [
    {
     "name": "stdout",
     "output_type": "stream",
     "text": [
      "False\n"
     ]
    }
   ],
   "source": [
    "x = 20\n",
    "if x > 0 and x < 10:\n",
    "    print(x > 0 and x < 10)\n",
    "else:\n",
    "    print(x > 0 and x < 10)"
   ]
  },
  {
   "cell_type": "markdown",
   "metadata": {},
   "source": [
    "## 연습문제"
   ]
  },
  {
   "cell_type": "markdown",
   "metadata": {},
   "source": [
    "1) 다음의 주민번호 리스트에서 남, 녀 별로 90 년생 이후 출생자를 골라내라. (난이도 하)"
   ]
  },
  {
   "cell_type": "code",
   "execution_count": null,
   "metadata": {},
   "outputs": [],
   "source": [
    "id_list = ['920801-1041798', '800902-2048746', '971010-1023987', '871203-2014987',\n",
    "         '820801-1041798', '900902-2048746', '941010-1023987', '971203-2014987']\n",
    "\n",
    "man = []\n",
    "lady = []\n",
    "\n",
    "for id in id_list:\n",
    "    if id[:2] >= '90' and id[7] == '1':\n",
    "        \n",
    "        #--- YOUR CODE HERE--------\n",
    "\n",
    "print('남성 =', man)\n",
    "print('여성 =', lady)"
   ]
  }
 ],
 "metadata": {
  "kernelspec": {
   "display_name": "Python 3",
   "language": "python",
   "name": "python3"
  },
  "language_info": {
   "codemirror_mode": {
    "name": "ipython",
    "version": 3
   },
   "file_extension": ".py",
   "mimetype": "text/x-python",
   "name": "python",
   "nbconvert_exporter": "python",
   "pygments_lexer": "ipython3",
   "version": "3.7.3"
  }
 },
 "nbformat": 4,
 "nbformat_minor": 2
}
