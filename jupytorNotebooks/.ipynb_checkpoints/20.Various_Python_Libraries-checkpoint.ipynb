{
 "cells": [
  {
   "cell_type": "markdown",
   "metadata": {},
   "source": [
    "# 20. 자주 사용하는 Python Library 소개"
   ]
  },
  {
   "cell_type": "markdown",
   "metadata": {},
   "source": [
    "## os\n",
    "\n",
    "- 환경 변수나 디렉터리, 파일 등의 OS 자원을 제어할 수 있게 해주는 모듈이다"
   ]
  },
  {
   "cell_type": "code",
   "execution_count": 43,
   "metadata": {},
   "outputs": [
    {
     "data": {
      "text/plain": [
       "'C:\\\\Users\\\\trimu\\\\Miniconda3\\\\envs\\\\tf20;C:\\\\Users\\\\trimu\\\\Miniconda3\\\\envs\\\\tf20\\\\Library\\\\mingw-w64\\\\bin;C:\\\\Users\\\\trimu\\\\Miniconda3\\\\envs\\\\tf20\\\\Library\\\\usr\\\\bin;C:\\\\Users\\\\trimu\\\\Miniconda3\\\\envs\\\\tf20\\\\Library\\\\bin;C:\\\\Users\\\\trimu\\\\Miniconda3\\\\envs\\\\tf20\\\\Scripts;C:\\\\Users\\\\trimu\\\\Miniconda3\\\\envs\\\\tf20\\\\bin;C:\\\\Users\\\\trimu\\\\Miniconda3\\\\condabin;C:\\\\Program Files\\\\NVIDIA GPU Computing Toolkit\\\\CUDA\\\\v10.1\\\\bin;C:\\\\Program Files\\\\NVIDIA GPU Computing Toolkit\\\\CUDA\\\\v10.1\\\\libnvvp;C:\\\\Program Files (x86)\\\\Common Files\\\\Oracle\\\\Java\\\\javapath;C:\\\\Program Files\\\\NVIDIA GPU Computing Toolkit\\\\CUDA\\\\v10.0\\\\bin;C:\\\\Program Files\\\\NVIDIA GPU Computing Toolkit\\\\CUDA\\\\v10.0\\\\libnvvp;C:\\\\Program Files\\\\NVIDIA GPU Computing Toolkit\\\\CUDA\\\\v9.0\\\\bin;C:\\\\Program Files\\\\NVIDIA GPU Computing Toolkit\\\\CUDA\\\\v9.0\\\\libnvvp;C:\\\\ProgramData\\\\Boxstarter;C:\\\\Program Files (x86)\\\\Intel\\\\Intel(R) Management Engine Components\\\\iCLS;C:\\\\Program Files\\\\Intel\\\\Intel(R) Management Engine Components\\\\iCLS;C:\\\\Users\\\\trimu\\\\Anaconda3\\\\Lib\\\\site-packages\\\\PyQt5;C:\\\\Python36\\\\Scripts;C:\\\\Python36;C:\\\\Windows\\\\system32;C:\\\\Windows;C:\\\\Windows\\\\System32\\\\Wbem;C:\\\\Windows\\\\System32\\\\WindowsPowerShell\\\\v1.0;C:\\\\Program Files\\\\Git\\\\cmd;C:\\\\Program Files (x86)\\\\NVIDIA Corporation\\\\PhysX\\\\Common;C:\\\\WINDOWS\\\\system32;C:\\\\WINDOWS;C:\\\\WINDOWS\\\\System32\\\\Wbem;C:\\\\WINDOWS\\\\System32\\\\WindowsPowerShell\\\\v1.0;C:\\\\Program Files\\\\MySQL\\\\MySQL Utilities 1.6;C:\\\\WINDOWS\\\\System32\\\\OpenSSH;C:\\\\Program Files (x86)\\\\Intel\\\\Intel(R) Management Engine Components\\\\DAL;C:\\\\Program Files\\\\Intel\\\\Intel(R) Management Engine Components\\\\DAL;C:\\\\Program Files (x86)\\\\Intel\\\\Intel(R) Management Engine Components\\\\IPT;C:\\\\Program Files\\\\Intel\\\\Intel(R) Management Engine Components\\\\IPT;C:\\\\Program Files\\\\dotnet;C:\\\\ProgramData\\\\chocolatey\\\\bin;C:\\\\Program Files\\\\nodejs;C:\\\\Program Files (x86)\\\\Yarn\\\\bin;C:\\\\WINDOWS\\\\system32;C:\\\\WINDOWS;C:\\\\WINDOWS\\\\System32\\\\Wbem;C:\\\\WINDOWS\\\\System32\\\\WindowsPowerShell\\\\v1.0;C:\\\\WINDOWS\\\\System32\\\\OpenSSH;C:\\\\Program Files\\\\Pandoc;C:\\\\Program Files (x86)\\\\Graphviz2.38\\\\bin;C:\\\\Users\\\\trimu\\\\AppData\\\\Local\\\\atom\\\\bin;C:\\\\Program Files\\\\Intel\\\\WiFi\\\\bin;C:\\\\Program Files\\\\Common Files\\\\Intel\\\\WirelessCommon;C:\\\\Program Files\\\\NVIDIA Corporation\\\\Nsight Compute 2019.4.0;C:\\\\Program Files\\\\mingw-w64\\\\x86_64-8.1.0-posix-seh-rt_v6-rev0\\\\mingw64\\\\bin;C:\\\\Users\\\\trimu\\\\AppData\\\\Local\\\\atom\\\\bin;C:\\\\Users\\\\trimu\\\\AppData\\\\Local\\\\Programs\\\\Microsoft VS Code\\\\bin;C:\\\\Users\\\\trimu\\\\AppData\\\\Roaming\\\\npm;.'"
      ]
     },
     "execution_count": 43,
     "metadata": {},
     "output_type": "execute_result"
    }
   ],
   "source": [
    "import os\n",
    "\n",
    "os.environ['PATH']"
   ]
  },
  {
   "cell_type": "code",
   "execution_count": 15,
   "metadata": {},
   "outputs": [
    {
     "data": {
      "text/plain": [
       "'C:\\\\Users\\\\trimu\\\\Desktop\\\\Algorithm 으로 배우는 Python\\\\jupytorNotebooks'"
      ]
     },
     "execution_count": 15,
     "metadata": {},
     "output_type": "execute_result"
    }
   ],
   "source": [
    "os.getcwd()"
   ]
  },
  {
   "cell_type": "code",
   "execution_count": 17,
   "metadata": {},
   "outputs": [],
   "source": [
    "os.chdir(\"C:\\\\Users\\\\trimu\\\\Desktop\")"
   ]
  },
  {
   "cell_type": "code",
   "execution_count": 18,
   "metadata": {},
   "outputs": [
    {
     "data": {
      "text/plain": [
       "'C:\\\\Users\\\\trimu\\\\Desktop'"
      ]
     },
     "execution_count": 18,
     "metadata": {},
     "output_type": "execute_result"
    }
   ],
   "source": [
    "os.getcwd()"
   ]
  },
  {
   "cell_type": "markdown",
   "metadata": {},
   "source": [
    "## sys.path\n",
    "\n",
    "- 파이썬 모듈들이 저장되어 있는 위치를 나타낸다. 즉 이 위치에 있는 파이썬 모듈은 경로에 상관없이 어디에서나 불러올 수 있다."
   ]
  },
  {
   "cell_type": "code",
   "execution_count": 38,
   "metadata": {},
   "outputs": [
    {
     "data": {
      "text/plain": [
       "['C:\\\\Users\\\\trimu\\\\Desktop\\\\Algorithm 으로 배우는 Python\\\\jupytorNotebooks',\n",
       " 'C:\\\\Users\\\\trimu\\\\Desktop\\\\GAN Udemy\\\\machine_learning_coding',\n",
       " 'C:\\\\Users\\\\trimu\\\\Miniconda3\\\\envs\\\\tf20\\\\python37.zip',\n",
       " 'C:\\\\Users\\\\trimu\\\\Miniconda3\\\\envs\\\\tf20\\\\DLLs',\n",
       " 'C:\\\\Users\\\\trimu\\\\Miniconda3\\\\envs\\\\tf20\\\\lib',\n",
       " 'C:\\\\Users\\\\trimu\\\\Miniconda3\\\\envs\\\\tf20',\n",
       " '',\n",
       " 'C:\\\\Users\\\\trimu\\\\AppData\\\\Roaming\\\\Python\\\\Python37\\\\site-packages',\n",
       " 'C:\\\\Users\\\\trimu\\\\Miniconda3\\\\envs\\\\tf20\\\\lib\\\\site-packages',\n",
       " 'C:\\\\Users\\\\trimu\\\\Miniconda3\\\\envs\\\\tf20\\\\lib\\\\site-packages\\\\win32',\n",
       " 'C:\\\\Users\\\\trimu\\\\Miniconda3\\\\envs\\\\tf20\\\\lib\\\\site-packages\\\\win32\\\\lib',\n",
       " 'C:\\\\Users\\\\trimu\\\\Miniconda3\\\\envs\\\\tf20\\\\lib\\\\site-packages\\\\Pythonwin',\n",
       " 'C:\\\\Users\\\\trimu\\\\Miniconda3\\\\envs\\\\tf20\\\\lib\\\\site-packages\\\\IPython\\\\extensions',\n",
       " 'C:\\\\Users\\\\trimu\\\\.ipython']"
      ]
     },
     "execution_count": 38,
     "metadata": {},
     "output_type": "execute_result"
    }
   ],
   "source": [
    "import sys\n",
    "\n",
    "sys.path"
   ]
  },
  {
   "cell_type": "code",
   "execution_count": 39,
   "metadata": {},
   "outputs": [],
   "source": [
    "sys.path.append(\"C:\\\\Users\\\\trimu\\\\\")"
   ]
  },
  {
   "cell_type": "code",
   "execution_count": 40,
   "metadata": {},
   "outputs": [
    {
     "data": {
      "text/plain": [
       "['C:\\\\Users\\\\trimu\\\\Desktop\\\\Algorithm 으로 배우는 Python\\\\jupytorNotebooks',\n",
       " 'C:\\\\Users\\\\trimu\\\\Desktop\\\\GAN Udemy\\\\machine_learning_coding',\n",
       " 'C:\\\\Users\\\\trimu\\\\Miniconda3\\\\envs\\\\tf20\\\\python37.zip',\n",
       " 'C:\\\\Users\\\\trimu\\\\Miniconda3\\\\envs\\\\tf20\\\\DLLs',\n",
       " 'C:\\\\Users\\\\trimu\\\\Miniconda3\\\\envs\\\\tf20\\\\lib',\n",
       " 'C:\\\\Users\\\\trimu\\\\Miniconda3\\\\envs\\\\tf20',\n",
       " '',\n",
       " 'C:\\\\Users\\\\trimu\\\\AppData\\\\Roaming\\\\Python\\\\Python37\\\\site-packages',\n",
       " 'C:\\\\Users\\\\trimu\\\\Miniconda3\\\\envs\\\\tf20\\\\lib\\\\site-packages',\n",
       " 'C:\\\\Users\\\\trimu\\\\Miniconda3\\\\envs\\\\tf20\\\\lib\\\\site-packages\\\\win32',\n",
       " 'C:\\\\Users\\\\trimu\\\\Miniconda3\\\\envs\\\\tf20\\\\lib\\\\site-packages\\\\win32\\\\lib',\n",
       " 'C:\\\\Users\\\\trimu\\\\Miniconda3\\\\envs\\\\tf20\\\\lib\\\\site-packages\\\\Pythonwin',\n",
       " 'C:\\\\Users\\\\trimu\\\\Miniconda3\\\\envs\\\\tf20\\\\lib\\\\site-packages\\\\IPython\\\\extensions',\n",
       " 'C:\\\\Users\\\\trimu\\\\.ipython',\n",
       " 'C:\\\\Users\\\\trimu\\\\']"
      ]
     },
     "execution_count": 40,
     "metadata": {},
     "output_type": "execute_result"
    }
   ],
   "source": [
    "sys.path"
   ]
  },
  {
   "cell_type": "markdown",
   "metadata": {},
   "source": [
    "## time\n",
    "\n",
    "- time.time()  \n",
    "    - UTC(Universal Time Coordinated 협정 세계 표준시)를 사용하여 현재 시간을 실수 형태로 돌려주는 함수  \n",
    "    - 1970년 1월 1일 0시 0분 0초를 기준으로 지난 시간을 초 단위로 돌려준다\n",
    "    \n",
    "    \n",
    "- time.localtime  \n",
    "    - time.time()이 돌려준 실수 값을 사용해서 연도, 월, 일, 시, 분, 초, ... 의 형태로 바꾸어 주는 함수\n",
    "    \n",
    "    \n",
    "    \n",
    "- time.strftime('출력할 형식 포맷 코드', time.localtime(time.time())) - strftime (string from time)"
   ]
  },
  {
   "cell_type": "code",
   "execution_count": 20,
   "metadata": {},
   "outputs": [
    {
     "data": {
      "text/plain": [
       "1586781054.5068288"
      ]
     },
     "execution_count": 20,
     "metadata": {},
     "output_type": "execute_result"
    }
   ],
   "source": [
    "import time\n",
    "\n",
    "time.time()"
   ]
  },
  {
   "cell_type": "code",
   "execution_count": 21,
   "metadata": {},
   "outputs": [
    {
     "data": {
      "text/plain": [
       "time.struct_time(tm_year=2020, tm_mon=4, tm_mday=13, tm_hour=21, tm_min=30, tm_sec=54, tm_wday=0, tm_yday=104, tm_isdst=0)"
      ]
     },
     "execution_count": 21,
     "metadata": {},
     "output_type": "execute_result"
    }
   ],
   "source": [
    "time.localtime(time.time())"
   ]
  },
  {
   "cell_type": "code",
   "execution_count": 23,
   "metadata": {},
   "outputs": [
    {
     "data": {
      "text/plain": [
       "'04/13/20'"
      ]
     },
     "execution_count": 23,
     "metadata": {},
     "output_type": "execute_result"
    }
   ],
   "source": [
    "time.strftime('%x', time.localtime(time.time()))"
   ]
  },
  {
   "cell_type": "code",
   "execution_count": 22,
   "metadata": {},
   "outputs": [
    {
     "data": {
      "text/plain": [
       "'Mon Apr 13 21:33:46 2020'"
      ]
     },
     "execution_count": 22,
     "metadata": {},
     "output_type": "execute_result"
    }
   ],
   "source": [
    "time.strftime('%c', time.localtime(time.time()))"
   ]
  },
  {
   "cell_type": "code",
   "execution_count": 24,
   "metadata": {},
   "outputs": [],
   "source": [
    "time.strftime?"
   ]
  },
  {
   "cell_type": "markdown",
   "metadata": {},
   "source": [
    "## pickle"
   ]
  },
  {
   "cell_type": "code",
   "execution_count": 10,
   "metadata": {},
   "outputs": [],
   "source": [
    "import pickle\n",
    "\n",
    "f = open(\"test.txt\", 'wb')\n",
    "data = {1: 'python', 2: 'you need'}\n",
    "pickle.dump(data, f)\n",
    "f.close()"
   ]
  },
  {
   "cell_type": "code",
   "execution_count": 12,
   "metadata": {},
   "outputs": [
    {
     "name": "stdout",
     "output_type": "stream",
     "text": [
      "{1: 'python', 2: 'you need'}\n"
     ]
    }
   ],
   "source": [
    "f = open(\"test.txt\", 'rb')\n",
    "\n",
    "data = pickle.load(f)\n",
    "print(data)"
   ]
  },
  {
   "cell_type": "markdown",
   "metadata": {},
   "source": [
    "## random\n",
    "\n",
    "- random은 난수(규칙이 없는 임의의 수)를 발생시키는 모듈이다"
   ]
  },
  {
   "cell_type": "code",
   "execution_count": 16,
   "metadata": {},
   "outputs": [
    {
     "data": {
      "text/plain": [
       "0.9083779824171297"
      ]
     },
     "execution_count": 16,
     "metadata": {},
     "output_type": "execute_result"
    }
   ],
   "source": [
    "import random\n",
    "\n",
    "random.random()"
   ]
  },
  {
   "cell_type": "code",
   "execution_count": 17,
   "metadata": {},
   "outputs": [
    {
     "data": {
      "text/plain": [
       "9"
      ]
     },
     "execution_count": 17,
     "metadata": {},
     "output_type": "execute_result"
    }
   ],
   "source": [
    "random.randint(1, 10)"
   ]
  },
  {
   "cell_type": "code",
   "execution_count": 18,
   "metadata": {},
   "outputs": [],
   "source": [
    "random.seed(101)"
   ]
  },
  {
   "cell_type": "markdown",
   "metadata": {},
   "source": [
    "### zipfile\n",
    "- zip archive object 를 생성하고 개별 file 을 add"
   ]
  },
  {
   "cell_type": "code",
   "execution_count": 26,
   "metadata": {},
   "outputs": [],
   "source": [
    "# sample file 2 개 생성\n",
    "f = open('new_file_1.txt', 'w')\n",
    "f.write('이것은 첫번째 테스트 file 입니다.')\n",
    "f.close()\n",
    "\n",
    "f = open('new_file_2.txt', 'w')\n",
    "f.write('두번째 테스트 file 입니다')\n",
    "f.close()"
   ]
  },
  {
   "cell_type": "code",
   "execution_count": 27,
   "metadata": {},
   "outputs": [],
   "source": [
    "import zipfile"
   ]
  },
  {
   "cell_type": "code",
   "execution_count": 28,
   "metadata": {},
   "outputs": [],
   "source": [
    "# empty zipfile object 생성\n",
    "comp_file = zipfile.ZipFile('new_compressed_file.zip', 'w')"
   ]
  },
  {
   "cell_type": "code",
   "execution_count": 29,
   "metadata": {},
   "outputs": [],
   "source": [
    "# empty object 에 압축할 file 추가\n",
    "comp_file.write('new_file_1.txt')\n",
    "comp_file.write('new_file_2.txt')"
   ]
  },
  {
   "cell_type": "code",
   "execution_count": 30,
   "metadata": {},
   "outputs": [],
   "source": [
    "comp_file.close()"
   ]
  },
  {
   "cell_type": "markdown",
   "metadata": {},
   "source": [
    "## Extract from zipfile"
   ]
  },
  {
   "cell_type": "code",
   "execution_count": 31,
   "metadata": {},
   "outputs": [],
   "source": [
    "# 읽어들일 zipfile object 생성\n",
    "zip_object = zipfile.ZipFile('new_compressed_file.zip', 'r')\n",
    "\n",
    "# 새로운 directory 에 모든 file 압축 해제\n",
    "zip_object.extractall('unzipped_content')"
   ]
  },
  {
   "cell_type": "code",
   "execution_count": 32,
   "metadata": {},
   "outputs": [
    {
     "data": {
      "text/plain": [
       "'unzipped_content_2\\\\new_file_1.txt'"
      ]
     },
     "execution_count": 32,
     "metadata": {},
     "output_type": "execute_result"
    }
   ],
   "source": [
    "# 개별 file 해제 (file name, 저장 directory)\n",
    "zip_object.extract('new_file_1.txt', 'unzipped_content_2')"
   ]
  }
 ],
 "metadata": {
  "kernelspec": {
   "display_name": "Python 3",
   "language": "python",
   "name": "python3"
  },
  "language_info": {
   "codemirror_mode": {
    "name": "ipython",
    "version": 3
   },
   "file_extension": ".py",
   "mimetype": "text/x-python",
   "name": "python",
   "nbconvert_exporter": "python",
   "pygments_lexer": "ipython3",
   "version": "3.7.3"
  }
 },
 "nbformat": 4,
 "nbformat_minor": 4
}
