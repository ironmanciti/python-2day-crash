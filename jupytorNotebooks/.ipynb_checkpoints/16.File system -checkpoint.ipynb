{
 "cells": [
  {
   "cell_type": "markdown",
   "metadata": {},
   "source": [
    "# 16. Files 입출력\n",
    "\n",
    "### open(file 명) 을 호출하면 해당 file 을 open 하고 file 객체를 반환한다.\n",
    "\n",
    "### f = open('file_name', 'r') : file read 를 위한 file 객체를 변수 f 로 저장\n",
    "\n",
    "### f = open('file_name', 'w') : file write 를 위한 file 객체를 변수 f 로 저장\n",
    "\n",
    "### f.close() : file close \n",
    "\n",
    "### 주요 methods\n",
    "\n",
    "- f.read()  \n",
    "- f.write()  \n",
    "- f.tell()"
   ]
  },
  {
   "cell_type": "markdown",
   "metadata": {},
   "source": [
    "### 새로운 file 생성"
   ]
  },
  {
   "cell_type": "code",
   "execution_count": 9,
   "metadata": {},
   "outputs": [],
   "source": [
    "f = open('test.txt', 'w')\n",
    "f.write('This is file write test\\n')\n",
    "f.write('This is 2nd line\\n')\n",
    "f.write('이것은 3번째 줄입니다.')\n",
    "f.close()"
   ]
  },
  {
   "cell_type": "markdown",
   "metadata": {},
   "source": [
    "### 이미 존재하는 file open"
   ]
  },
  {
   "cell_type": "code",
   "execution_count": 30,
   "metadata": {},
   "outputs": [
    {
     "name": "stdout",
     "output_type": "stream",
     "text": [
      "0\n",
      "b'This is file write test\\r\\nThis is 2nd line\\r\\n\\xc0\\xcc\\xb0\\xcd\\xc0\\xba 3\\xb9\\xf8\\xc2\\xb0 \\xc1\\xd9\\xc0\\xd4\\xb4\\xcf\\xb4\\xd9.'\n",
      "65\n",
      "65\n"
     ]
    }
   ],
   "source": [
    "f = open('test.txt', 'br')    # binary mode\n",
    "\n",
    "print(f.tell())\n",
    "\n",
    "text = f.read()\n",
    "\n",
    "print(text)\n",
    "print(len(text))\n",
    "\n",
    "print(f.tell())\n",
    "f.close()"
   ]
  },
  {
   "cell_type": "code",
   "execution_count": 31,
   "metadata": {},
   "outputs": [
    {
     "name": "stdout",
     "output_type": "stream",
     "text": [
      "This is file write test\n",
      "This is 2nd line\n",
      "이것은 3번째 줄입니다."
     ]
    }
   ],
   "source": [
    "f = open('test.txt', 'r')     # text mode\n",
    "\n",
    "lines = f.readlines()\n",
    "\n",
    "for line in lines:\n",
    "    print(line, end=\"\")\n",
    "    \n",
    "f.close()"
   ]
  },
  {
   "cell_type": "markdown",
   "metadata": {},
   "source": [
    "## IO error 처리"
   ]
  },
  {
   "cell_type": "code",
   "execution_count": 24,
   "metadata": {},
   "outputs": [
    {
     "name": "stderr",
     "output_type": "stream",
     "text": [
      "file reading error : test2.txt"
     ]
    }
   ],
   "source": [
    "import sys\n",
    "file_name = 'test2.txt'\n",
    "\n",
    "try:\n",
    "    f = open(file_name, 'r')\n",
    "    text = f.read()\n",
    "    f.close()\n",
    "except IOError:\n",
    "    sys.stderr.write('file reading error : ' + file_name)\n",
    "except OSError as err:\n",
    "    print(\"OS error: {0}\".format(err))\n",
    "except ValueError:\n",
    "    print(\"Could not convert data to an integer.\")\n",
    "except:\n",
    "    print(\"Unexpected error:\")"
   ]
  },
  {
   "cell_type": "markdown",
   "metadata": {},
   "source": [
    "## file path 지정"
   ]
  },
  {
   "cell_type": "code",
   "execution_count": 25,
   "metadata": {},
   "outputs": [
    {
     "data": {
      "text/plain": [
       "['.ipynb_checkpoints',\n",
       " '00.TableOfContets.ipynb',\n",
       " '01.print and help.ipynb',\n",
       " '02.arithmetic calculation.ipynb',\n",
       " '03.data-types.ipynb',\n",
       " '04.variable and practice.ipynb',\n",
       " '05.functions-variable scope-builtin function.ipynb',\n",
       " '06.list-indexing-slicing.ipynb',\n",
       " '07.for-loop-range.ipynb',\n",
       " '08.range.ipynb',\n",
       " '09.dictionary.ipynb',\n",
       " '10.string-escape-.ipynb',\n",
       " '11.string-methods and formatting.ipynb',\n",
       " '12.if-comparison-logical operation.ipynb',\n",
       " '13.import-module.ipynb',\n",
       " '14.object-oriented-programming.ipynb',\n",
       " '15.set.ipynb',\n",
       " '16-1.euclidGCD.pptx',\n",
       " '16.while-loop.ipynb',\n",
       " '17.File system .ipynb',\n",
       " '18-1.Regular Expression.pptx',\n",
       " '18.Regular Expression.ipynb',\n",
       " '19-1_factorialImage.pptx',\n",
       " '19.Functional Programming.ipynb',\n",
       " '20.List Comprehension.ipynb',\n",
       " '21.Binary Search Algoritym.ipynb',\n",
       " '22.Big-O notation and Algorithmic Analysis with Python.ipynb',\n",
       " '23-1.이항계수DP.pptx',\n",
       " '23.Memoization and Dynamic Programming.ipynb',\n",
       " '24-1.sorting.pptx',\n",
       " '24.Sort Algorithm.ipynb',\n",
       " '25.zipfile using Python.ipynb',\n",
       " '26.GraphDataStructure.ipynb',\n",
       " '27.Various_Python_Libraries.ipynb',\n",
       " 'big_o_chart.jpg',\n",
       " 'bubblesort.PNG',\n",
       " 'Command_shortcuts.docx',\n",
       " 'compressed.zip',\n",
       " 'DPCOINLIST.PNG',\n",
       " 'DPCOINTree.PNG',\n",
       " 'DPCONLIST1.PNG',\n",
       " 'graph_diagram.png',\n",
       " 'images',\n",
       " 'matrix.PNG',\n",
       " 'matrix_path.PNG',\n",
       " 'memoization.PNG',\n",
       " 'MergeSort.png',\n",
       " 'module_test.py',\n",
       " 'new_compressed_file.zip',\n",
       " 'new_file.txt',\n",
       " 'new_file2.txt',\n",
       " 'new_file_1.txt',\n",
       " 'new_file_2.txt',\n",
       " 'quicksort.PNG',\n",
       " 'selectionsort.png',\n",
       " 'sierpinski.PNG',\n",
       " 'test.ipnb',\n",
       " 'test.txt',\n",
       " 'test_text.txt',\n",
       " 'unzipped_content',\n",
       " 'unzipped_content_2',\n",
       " 'unzipped_content_3',\n",
       " 'zipped_content3.zip',\n",
       " '__pycache__',\n",
       " '사전 설문.docx']"
      ]
     },
     "execution_count": 25,
     "metadata": {},
     "output_type": "execute_result"
    }
   ],
   "source": [
    "import os\n",
    "\n",
    "os.listdir()"
   ]
  },
  {
   "cell_type": "code",
   "execution_count": 26,
   "metadata": {},
   "outputs": [
    {
     "data": {
      "text/plain": [
       "'C:\\\\Users\\\\trimu\\\\Desktop\\\\AlgorithmPython\\\\jupytorNotebooks\\\\test.txt'"
      ]
     },
     "execution_count": 26,
     "metadata": {},
     "output_type": "execute_result"
    }
   ],
   "source": [
    "os.path.abspath('test.txt')"
   ]
  },
  {
   "cell_type": "code",
   "execution_count": 27,
   "metadata": {},
   "outputs": [
    {
     "data": {
      "text/plain": [
       "'C:\\\\Users\\\\trimu\\\\Desktop\\\\Python-Teaching\\\\jupytorNotebooks\\\\test.txt'"
      ]
     },
     "execution_count": 27,
     "metadata": {},
     "output_type": "execute_result"
    }
   ],
   "source": [
    "os.path.join('C:\\\\Users\\\\trimu\\\\Desktop\\\\Python-Teaching\\\\jupytorNotebooks', 'test.txt')"
   ]
  },
  {
   "cell_type": "code",
   "execution_count": 28,
   "metadata": {},
   "outputs": [
    {
     "data": {
      "text/plain": [
       "'C:\\\\Users\\\\trimu\\\\Desktop\\\\AlgorithmPython\\\\jupytorNotebooks'"
      ]
     },
     "execution_count": 28,
     "metadata": {},
     "output_type": "execute_result"
    }
   ],
   "source": [
    "os.path.dirname(os.path.abspath('test.txt'))"
   ]
  },
  {
   "cell_type": "code",
   "execution_count": 29,
   "metadata": {},
   "outputs": [
    {
     "data": {
      "text/plain": [
       "True"
      ]
     },
     "execution_count": 29,
     "metadata": {},
     "output_type": "execute_result"
    }
   ],
   "source": [
    "os.path.exists('test.txt')"
   ]
  },
  {
   "cell_type": "markdown",
   "metadata": {},
   "source": [
    "## with open 문으로 file 읽기/쓰기\n",
    "\n",
    "#### with 문을 이용하면 with 블록을 벗어나는 순간 열린 파일 객체가 자동으로 close되어 편리함."
   ]
  },
  {
   "cell_type": "code",
   "execution_count": 11,
   "metadata": {},
   "outputs": [
    {
     "name": "stdout",
     "output_type": "stream",
     "text": [
      "This is file write test\n",
      "This is 2nd line\n",
      "이것은 3번째 줄입니다.\n"
     ]
    }
   ],
   "source": [
    "with open('test.txt', \"r\") as file2:\n",
    "    data = file2.read()\n",
    "\n",
    "print(data)"
   ]
  },
  {
   "cell_type": "code",
   "execution_count": 12,
   "metadata": {},
   "outputs": [],
   "source": [
    "with open('test.txt', \"w\") as file3:\n",
    "    data = file3.write(\"This is 3rd line\")"
   ]
  },
  {
   "cell_type": "markdown",
   "metadata": {},
   "source": [
    "### requests\n",
    "\n",
    "requests module 을 이용하여 url 을 fetch 할 수 있다."
   ]
  },
  {
   "cell_type": "code",
   "execution_count": 13,
   "metadata": {},
   "outputs": [],
   "source": [
    "import requests"
   ]
  },
  {
   "cell_type": "code",
   "execution_count": 14,
   "metadata": {},
   "outputs": [],
   "source": [
    "source = requests.get('http://www.google.com')"
   ]
  },
  {
   "cell_type": "code",
   "execution_count": 15,
   "metadata": {},
   "outputs": [],
   "source": [
    "html = source.text"
   ]
  },
  {
   "cell_type": "code",
   "execution_count": 16,
   "metadata": {},
   "outputs": [
    {
     "data": {
      "text/plain": [
       "'<!doctype html><html itemscope=\"\" itemtype=\"http://schema.org/WebPage\" lang=\"ko\"><head><meta content=\"text/html; charset=UTF-8\" http-equiv=\"Content-Type\"><meta content=\"/images/branding/googleg/1x/googleg_standard_color_128dp.png\" itemprop=\"image\"><title>Google</title><script nonce=\"xEP6SYNqIxWZ3xv69r5yCw==\">(function(){window.google={kEI:\\'wEQyXqH9NcynoATs_LD4DA\\',kEXPI:\\'0,18168,1335579,5662,730,32,192,5105,206,2955,249,10,50,1001,175,364,1366,69,4,60,690,52,75,383,849,252,1128270,1197730,294,125,39,329079,1294,12383,4855,32691,15248,867,6056,13341,9287,363,3320,5505,8384,4859,1361,4323,4967,3028,2816,1924,3118,7915,1808,1976,2044,8909,5072,225,2054,920,873,1217,1710,1,1264,2784,2607,315,724,11306,2884,20,317,1981,2537,1396,1381,520,399,2277,8,2796,1593,1279,390,1822,202,328,149,1103,840,520,1471,48,158,662,3438,260,52,1137,2,2063,606,1839,184,545,1232,520,1947,245,502,429,44,1009,93,328,1284,16,84,417,1708,718,1425,214,608,473,1339,748,209,830,2197,1030,773,2072,7,1320,3488,791,469,311'"
      ]
     },
     "execution_count": 16,
     "metadata": {},
     "output_type": "execute_result"
    }
   ],
   "source": [
    "html[:1000]"
   ]
  }
 ],
 "metadata": {
  "kernelspec": {
   "display_name": "Python 3",
   "language": "python",
   "name": "python3"
  },
  "language_info": {
   "codemirror_mode": {
    "name": "ipython",
    "version": 3
   },
   "file_extension": ".py",
   "mimetype": "text/x-python",
   "name": "python",
   "nbconvert_exporter": "python",
   "pygments_lexer": "ipython3",
   "version": "3.7.3"
  }
 },
 "nbformat": 4,
 "nbformat_minor": 2
}
