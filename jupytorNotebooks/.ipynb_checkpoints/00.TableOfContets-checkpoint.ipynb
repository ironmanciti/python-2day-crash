{
 "cells": [
  {
   "cell_type": "markdown",
   "metadata": {},
   "source": [
    "<h1><center>알고리즘으로 배우는 Python</center></h1>"
   ]
  },
  {
   "cell_type": "markdown",
   "metadata": {},
   "source": [
    "\n",
    "## 목차\n",
    "\n",
    "### 1. Hello Python (print, help, comment) \n",
    "\n",
    "### 2. 사칙연산\n",
    "\n",
    "### 3. Python 의 기본 Data Type\n",
    "\n",
    "### 4. Python 의 변수 (Variables)\n",
    "\n",
    "### 5. 함수 (Function)\n",
    "\n",
    "### 6. List 와 Tuple\n",
    "\n",
    "### 7. for-loop and range() 함수\n",
    "\n",
    "### 8. Dictionary 자료형\n",
    "\n",
    "### 9. String\n",
    "\n",
    "### 10. 조건문\n",
    "\n",
    "### 11. Module\n",
    "\n",
    "### 12. Class\n",
    "\n",
    "### 13. 집합 (set)\n",
    "\n",
    "### 14. while 문\n",
    "\n",
    "### 15. File 입출력\n",
    "\n",
    "### 16. lambda\n",
    "\n",
    "### 17. List Comprehension\n",
    "\n",
    "### 18. 정렬 (Sort)\n",
    "\n",
    "### 19. 자주 사용하는 Python Library 소개\n",
    " \n",
    "- sys  \n",
    "- pickle  \n",
    "- OS  \n",
    "- time  \n",
    "- random \n",
    "\n",
    "### 20. numpy  \n",
    "\n",
    "### 21. pandas  \n",
    "\n",
    "### 22. matplotlib \n",
    "\n",
    "### 23. Jupyter Notebook Advanced"
   ]
  }
 ],
 "metadata": {
  "kernelspec": {
   "display_name": "Python 3",
   "language": "python",
   "name": "python3"
  },
  "language_info": {
   "codemirror_mode": {
    "name": "ipython",
    "version": 3
   },
   "file_extension": ".py",
   "mimetype": "text/x-python",
   "name": "python",
   "nbconvert_exporter": "python",
   "pygments_lexer": "ipython3",
   "version": "3.7.3"
  }
 },
 "nbformat": 4,
 "nbformat_minor": 2
}
