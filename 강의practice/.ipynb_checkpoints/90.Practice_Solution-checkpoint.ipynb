{
 "cells": [
  {
   "cell_type": "markdown",
   "metadata": {},
   "source": [
    "# 연습문제 해답"
   ]
  },
  {
   "cell_type": "code",
   "execution_count": 1,
   "metadata": {},
   "outputs": [
    {
     "name": "stdout",
     "output_type": "stream",
     "text": [
      "3.0\n",
      "2.0\n",
      "212.0\n"
     ]
    }
   ],
   "source": [
    "\"\"\"\n",
    "chapter 5 연습문제\n",
    "\n",
    "1) 다음 code 가 수행된 이후 z 의 값은 ?\n",
    "\"\"\"\n",
    "def f1(x, y):\n",
    "    return (x + 1) / (y - 1)\n",
    "\n",
    "z = f1(2, 2)\n",
    "print(z)\n",
    "\n",
    "def f1(x, y=2):\n",
    "    return (x + 1) / (y - 1)\n",
    "\n",
    "z = f1(1)\n",
    "print(z)\n",
    "#%%\n",
    "\"\"\"\n",
    "2) 섭씨 온도를 화씨 온도로 변환하는 함수를 작성한다. 변환 공식은 다음과 같다.\n",
    "\"\"\"\n",
    "def fc_convert(tc):\n",
    "    return 9 / 5 * tc + 32\n",
    "\n",
    "print(fc_convert(100))"
   ]
  },
  {
   "cell_type": "code",
   "execution_count": 2,
   "metadata": {},
   "outputs": [
    {
     "name": "stdout",
     "output_type": "stream",
     "text": [
      "['Good', 'Morning']\n",
      "['Good', 'Morning', [3, 4]]\n",
      "[1, 2, 3, 4, 5]\n",
      "[5, 4, 3, 2, 1]\n",
      "삼성전자 40000\n",
      "대한항공 2000\n",
      "google 50000\n",
      "apple 100000\n"
     ]
    }
   ],
   "source": [
    "\"\"\"\n",
    "Chapter 6 연습문제\n",
    "\n",
    "1) 다음 프로그램의 결과값은 ?\n",
    "\"\"\"\n",
    "xlist = []\n",
    "xlist.append('Good')\n",
    "xlist.append('Morning')\n",
    "print(xlist)\n",
    "\n",
    "xlist.append([3, 4])\n",
    "print(xlist)\n",
    "#%%\n",
    "\"\"\"\n",
    "2) 다음 list 의 element 를 오름차순으로 정렬 (ascending sort) 한다.\n",
    "또한, 내림차순 (descending order)으로 정렬한다.\n",
    "sort(), sort(reverse=True) 함수를 사용한다.\n",
    "\"\"\"\n",
    "xlist = [2, 1, 3, 5, 4]\n",
    "\n",
    "print(sorted(xlist))\n",
    "print(sorted(xlist, reverse=True))\n",
    "#%%\n",
    "\"\"\"\n",
    "3) 두개의 list element 들을 짝을 지워 출력\n",
    "\"\"\"\n",
    "stocks = ['삼성전자', '대한항공', 'google', 'apple']\n",
    "close = [40000, 2000, 50000, 100000]\n",
    "\n",
    "for s, c in zip(stocks, close):\n",
    "    print(s, c)"
   ]
  },
  {
   "cell_type": "code",
   "execution_count": 4,
   "metadata": {},
   "outputs": [
    {
     "name": "stdout",
     "output_type": "stream",
     "text": [
      "3\n",
      "11\n"
     ]
    }
   ],
   "source": [
    "\"\"\"\n",
    "Chapter 7 연습문제\n",
    "\n",
    "1) 다음 문장 수행 후의 output 은 ?\n",
    "\"\"\"\n",
    "xlist = [1, [1, 2], [1, 2, 3]]\n",
    "print(xlist[1][1] + 1)\n",
    "#%%\n",
    "\"\"\"\n",
    "3) 다음 문장 수행 후의 output 은 ?\n",
    "\"\"\"\n",
    "def sum_part(xlist, n):\n",
    "    sum = 0\n",
    "    for x in xlist[n]:\n",
    "        sum = sum + x\n",
    "    return sum\n",
    "\n",
    "ylist = [[1, 2], [3, 4], [5, 6], [7, 8]]\n",
    "x = sum_part(ylist, 2)\n",
    "print(x)"
   ]
  },
  {
   "cell_type": "code",
   "execution_count": 5,
   "metadata": {},
   "outputs": [
    {
     "name": "stdout",
     "output_type": "stream",
     "text": [
      "469469a 4\n",
      "b 6\n",
      "c 9\n",
      "{2: [(1, 1)], 3: [(1, 2), (2, 1)], 4: [(1, 3), (2, 2), (3, 1)], 5: [(1, 4), (2, 3), (3, 2), (4, 1)], 6: [(1, 5), (2, 4), (3, 3), (4, 2), (5, 1)], 7: [(1, 6), (2, 5), (3, 4), (4, 3), (5, 2), (6, 1)], 8: [(2, 6), (3, 5), (4, 4), (5, 3), (6, 2)], 9: [(3, 6), (4, 5), (5, 4), (6, 3)], 10: [(4, 6), (5, 5), (6, 4)], 11: [(5, 6), (6, 5)], 12: [(6, 6)]}\n"
     ]
    }
   ],
   "source": [
    "\"\"\"\n",
    "Chapter 8 연습문제\n",
    "\n",
    "1) 다음의 출력 결과는 ?\n",
    "\"\"\"\n",
    "d = {'c': 9,'a': 4, 'b':6}\n",
    "for x in sorted(d):\n",
    "    print(d[x], end=\"\")\n",
    "#%%\n",
    "\"\"\"\n",
    "2) 다음의 출력 결과는 ?\n",
    "\"\"\"\n",
    "d = {'c': 9,'a': 4, 'b':6}\n",
    "for x in sorted(d.values()):\n",
    "    print(x, end=\"\")\n",
    "    #%%\n",
    "\"\"\"\n",
    "3) 다음의 출력 결과는 ?\n",
    "\"\"\"\n",
    "d = {'c': 9,'a': 4, 'b':6}\n",
    "for k, v in sorted(d.items()):\n",
    "    print(k, v)\n",
    "    \n",
    "#%%\n",
    "\"\"\"\n",
    "4) 두개의 주사위를 던져서 두 주사위의 합이 같은 것끼리 출력\n",
    "\"\"\"\n",
    "d = {}\n",
    "\n",
    "for dice1 in range(1, 7):\n",
    "    for dice2 in range(1, 7):\n",
    "        newTuple = (dice1, dice2)\n",
    "        added = dice1 + dice2\n",
    "        if added not in d:\n",
    "            d[added] = []\n",
    "        d[added].append(newTuple)\n",
    "\n",
    "print(d)"
   ]
  },
  {
   "cell_type": "code",
   "execution_count": 6,
   "metadata": {},
   "outputs": [
    {
     "name": "stdout",
     "output_type": "stream",
     "text": [
      "('ab345', '12cde')\n",
      "Mssssppspng\n",
      "Helo\n",
      "diog frnner\n"
     ]
    }
   ],
   "source": [
    "\"\"\"\n",
    "Chapter 9 연습문제\n",
    "\n",
    "1) 두개의 문자열을 parameter 로 받아 서로의 첫번째 두 글자를 교환한 후 중간에 한칸 띄우고 반환하는 함수\n",
    "\"\"\"\n",
    "def swap_first_two(a, b):\n",
    "    return b[:2]+a[2:], a[:2] + b[2:]\n",
    "\n",
    "print(swap_first_two('12345', 'abcde'))\n",
    "#%%\n",
    "\"\"\"\n",
    "1) 다음의 출력 결과는 ?\n",
    "\"\"\"\n",
    "for x in \"Mississippi\".split(\"i\"):\n",
    "    print(x, end=\"\")\n",
    "#%%   \n",
    "\"\"\"\n",
    "2) parameter 로 받은 string 의 양 끝단 2 글자를 붙여서 반환하는 함수\n",
    "\"\"\"\n",
    "def both_ends(s):\n",
    "    if len(s) < 2:\n",
    "        return ''\n",
    "    first2 = s[:2]\n",
    "    last2 = s[-2:]\n",
    "    return first2 + last2\n",
    "\n",
    "print(both_ends('spring'))\n",
    "print(both_ends('Hello'))\n",
    "\n",
    "#%%\n",
    "\"\"\"\n",
    "3) 두개의 문자열을 parameter 로 받아 서로의 첫번째 두 글자를 교환한 후 중간에 한칸 띄우고 반환하는 함수\n",
    "\"\"\"\n",
    "def mix_up(a, b):\n",
    "    a_swapped = b[:2] + a[2:]\n",
    "    b_swapped = a[:2] + b[2:]\n",
    "    return a_swapped + ' ' + b_swapped\n",
    "\n",
    "print(mix_up('frog', 'dinner'))"
   ]
  },
  {
   "cell_type": "code",
   "execution_count": 8,
   "metadata": {},
   "outputs": [
    {
     "name": "stdout",
     "output_type": "stream",
     "text": [
      "남성 = ['920801-1041798', '971010-1023987', '941010-1023987']\n",
      "여성 = ['800902-2048746', '871203-2014987', '820801-1041798', '900902-2048746', '971203-2014987']\n"
     ]
    }
   ],
   "source": [
    "\"\"\"\n",
    "Chapter 10 연습문제\n",
    "\n",
    "1) 다음의 주민번호 리스트에서 남, 녀 별로 90 년생 이후 출생자를 골라내라.\n",
    "\"\"\"\n",
    "id_list = ['920801-1041798', '800902-2048746', '971010-1023987', '871203-2014987',\n",
    "         '820801-1041798', '900902-2048746', '941010-1023987', '971203-2014987']\n",
    "\n",
    "man = []\n",
    "lady = []\n",
    "\n",
    "for id in id_list:\n",
    "    if id[:2] >= '90' and id[7] == '1':\n",
    "        man.append(id)\n",
    "    else:\n",
    "        lady.append(id)\n",
    "\n",
    "print('남성 =', man)\n",
    "print('여성 =', lady)"
   ]
  },
  {
   "cell_type": "code",
   "execution_count": 9,
   "metadata": {},
   "outputs": [
    {
     "name": "stdout",
     "output_type": "stream",
     "text": [
      "black\n",
      "앞으로 전진 : 시속 100 km\n",
      "뒤로 후진 : 시속 70 km\n",
      "white\n",
      "5000000\n",
      "시속 200 km 로 달리는 Volvo\n",
      "후진 불가\n"
     ]
    }
   ],
   "source": [
    "\"\"\"\n",
    "Chapter 12 연습문제\n",
    "\"\"\"\n",
    "\n",
    "class Car:\n",
    "    def __init__(self, color='red', power=2000):\n",
    "        self.color = color\n",
    "        self.power = power\n",
    "        self.speed = 0\n",
    "\n",
    "    def forward(self, speed):\n",
    "        self.speed += speed\n",
    "        return '앞으로 전진 : 시속 {} km'.format(self.speed)\n",
    "\n",
    "    def backward(self):\n",
    "        pass\n",
    "\n",
    "class Sonata(Car):\n",
    "    def __init__(self, color, power, size):\n",
    "        super().__init__(color, power)\n",
    "        self.size = size\n",
    "\n",
    "    def backward(self, speed):\n",
    "        self.speed -= speed\n",
    "        return '뒤로 후진 : 시속 {} km'.format(self.speed)\n",
    "\n",
    "class Volvo(Car):\n",
    "    def __init__(self, color, power, size, price):\n",
    "        super().__init__(color, power)\n",
    "        self.size = size\n",
    "        self.price = price\n",
    "\n",
    "    def forward(self, speed):\n",
    "        self.speed = speed * 2\n",
    "        return \"시속 {} km 로 달리는 Volvo\".format(self.speed)\n",
    "\n",
    "    def backward(self):\n",
    "        return \"후진 불가\"\n",
    "\n",
    "sonata = Sonata('black', 1800, 5)\n",
    "volvo = Volvo('white', 2500, 7, 5000000)\n",
    "\n",
    "print(sonata.color)\n",
    "print(sonata.forward(100))\n",
    "print(sonata.backward(30))\n",
    "\n",
    "print(volvo.color)\n",
    "print(volvo.price)\n",
    "print(volvo.forward(100))\n",
    "print(volvo.backward())"
   ]
  },
  {
   "cell_type": "code",
   "execution_count": 10,
   "metadata": {},
   "outputs": [
    {
     "name": "stdout",
     "output_type": "stream",
     "text": [
      "[2, 6]\n"
     ]
    }
   ],
   "source": [
    "\"\"\"\n",
    "Chapter 18 연습문제\n",
    "\n",
    "tuple element 로 구성된 list 에서 tuple 의 첫번째 element 가  'a' 인 tuple 이\n",
    "alist 의 몇번째  element 인지 구하라. 단, for loop 과 비교문을 사용하지 않고 list comprehension 을 사용\n",
    "\"\"\"\n",
    "alist = [('x', 4), ('s', 5), ('a', 4), ('t', 5), ('k', 4), ('w', 5), ('a', 4)]\n",
    "\n",
    "print([idx for idx, tup in enumerate(alist) if tup[0] == 'a'])\n"
   ]
  }
 ],
 "metadata": {
  "kernelspec": {
   "display_name": "Python 3",
   "language": "python",
   "name": "python3"
  },
  "language_info": {
   "codemirror_mode": {
    "name": "ipython",
    "version": 3
   },
   "file_extension": ".py",
   "mimetype": "text/x-python",
   "name": "python",
   "nbconvert_exporter": "python",
   "pygments_lexer": "ipython3",
   "version": "3.7.3"
  }
 },
 "nbformat": 4,
 "nbformat_minor": 4
}
